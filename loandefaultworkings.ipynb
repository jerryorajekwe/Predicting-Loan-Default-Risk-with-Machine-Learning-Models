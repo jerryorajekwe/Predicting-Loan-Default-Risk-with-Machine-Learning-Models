{
  "nbformat": 4,
  "nbformat_minor": 0,
  "metadata": {
    "colab": {
      "provenance": [],
      "authorship_tag": "ABX9TyP4UnhxX2UeSH4SDNoWfG/0",
      "include_colab_link": true
    },
    "kernelspec": {
      "name": "python3",
      "display_name": "Python 3"
    },
    "language_info": {
      "name": "python"
    }
  },
  "cells": [
    {
      "cell_type": "markdown",
      "metadata": {
        "id": "view-in-github",
        "colab_type": "text"
      },
      "source": [
        "<a href=\"https://colab.research.google.com/github/jerryorajekwe/Predicting-Loan-Default-Risk-with-Machine-Learning-Models/blob/main/loandefaultworkings.ipynb\" target=\"_parent\"><img src=\"https://colab.research.google.com/assets/colab-badge.svg\" alt=\"Open In Colab\"/></a>"
      ]
    },
    {
      "cell_type": "code",
      "execution_count": 1,
      "metadata": {
        "colab": {
          "base_uri": "https://localhost:8080/"
        },
        "id": "LuLgIwkAzQAL",
        "outputId": "c338484f-435c-4ccf-b313-38447a0c8a16"
      },
      "outputs": [
        {
          "output_type": "stream",
          "name": "stdout",
          "text": [
            "Drive already mounted at /content/drive; to attempt to forcibly remount, call drive.mount(\"/content/drive\", force_remount=True).\n"
          ]
        }
      ],
      "source": [
        "from google.colab import drive\n",
        "drive.mount('/content/drive')"
      ]
    },
    {
      "cell_type": "code",
      "source": [
        "# Suppress warnings\n",
        "import warnings\n",
        "warnings.filterwarnings('ignore')\n",
        "\n",
        "# Libraries for data manipulation and visualization\n",
        "import pandas as pd\n",
        "import numpy as np\n",
        "import matplotlib.pyplot as plt\n",
        "import seaborn as sns\n",
        "\n",
        "# Libraries for preprocessing and imputation\n",
        "from sklearn.preprocessing import StandardScaler, LabelEncoder\n",
        "from sklearn.impute import SimpleImputer\n",
        "\n",
        "# Libraries for model selection and evaluation\n",
        "from sklearn.model_selection import train_test_split, GridSearchCV, RandomizedSearchCV, cross_val_score\n",
        "from sklearn.metrics import classification_report, confusion_matrix, roc_auc_score, roc_curve, accuracy_score\n",
        "\n",
        "# Machine learning models\n",
        "from sklearn.linear_model import LogisticRegression\n",
        "from sklearn.ensemble import RandomForestClassifier, GradientBoostingClassifier\n",
        "from xgboost import XGBClassifier\n",
        "\n",
        "# For handling imbalanced data\n",
        "from imblearn.over_sampling import SMOTE\n",
        "\n",
        "# Additional utilities\n",
        "from collections import Counter"
      ],
      "metadata": {
        "id": "m_eUOtW6z26Q"
      },
      "execution_count": 2,
      "outputs": []
    },
    {
      "cell_type": "code",
      "source": [
        "# Load the dataset\n",
        "loan_data = pd.read_csv('/content/drive/MyDrive/loan.csv', low_memory=False)"
      ],
      "metadata": {
        "id": "PVtFv72Q0AE0"
      },
      "execution_count": 3,
      "outputs": []
    },
    {
      "cell_type": "code",
      "source": [
        "# 30% random sample\n",
        "loan_data_sample = loan_data.sample(frac=0.3, random_state=42)"
      ],
      "metadata": {
        "id": "JqJi2-2V0JzO"
      },
      "execution_count": 4,
      "outputs": []
    },
    {
      "cell_type": "code",
      "source": [
        "# Save the sampled dataset\n",
        "loan_data_sample.to_csv('loan_data_sample.csv', index=False)"
      ],
      "metadata": {
        "id": "IekzNQOJ0ZhN"
      },
      "execution_count": 5,
      "outputs": []
    },
    {
      "cell_type": "code",
      "source": [
        "# Display information about the sampled dataset\n",
        "print(\"Sampled Dataset Information:\")\n",
        "loan_data_sample.info()"
      ],
      "metadata": {
        "colab": {
          "base_uri": "https://localhost:8080/"
        },
        "id": "uTnQHRvc0d3r",
        "outputId": "c06ae603-76e0-42bc-ec7e-6c66d972c3e0"
      },
      "execution_count": 6,
      "outputs": [
        {
          "output_type": "stream",
          "name": "stdout",
          "text": [
            "Sampled Dataset Information:\n",
            "<class 'pandas.core.frame.DataFrame'>\n",
            "Index: 678200 entries, 1758049 to 2038627\n",
            "Columns: 145 entries, id to settlement_term\n",
            "dtypes: float64(105), int64(4), object(36)\n",
            "memory usage: 755.4+ MB\n"
          ]
        }
      ]
    },
    {
      "cell_type": "code",
      "source": [
        "print(\"First 5 Rows of the Dataset:\")\n",
        "loan_data_sample.head()"
      ],
      "metadata": {
        "colab": {
          "base_uri": "https://localhost:8080/",
          "height": 360
        },
        "id": "nNHcX3hi0vSM",
        "outputId": "6d51caed-470d-4a1b-b506-c0d6d9e6de84"
      },
      "execution_count": 7,
      "outputs": [
        {
          "output_type": "stream",
          "name": "stdout",
          "text": [
            "First 5 Rows of the Dataset:\n"
          ]
        },
        {
          "output_type": "execute_result",
          "data": {
            "text/plain": [
              "         id  member_id  loan_amnt  funded_amnt  funded_amnt_inv        term  \\\n",
              "1758049 NaN        NaN      35000        35000          35000.0   36 months   \n",
              "686533  NaN        NaN      30000        30000          30000.0   60 months   \n",
              "900721  NaN        NaN      15000        15000          15000.0   36 months   \n",
              "1727912 NaN        NaN      24000        24000          24000.0   60 months   \n",
              "539691  NaN        NaN      14400        14400          14400.0   36 months   \n",
              "\n",
              "         int_rate  installment grade sub_grade  ...  \\\n",
              "1758049     12.12      1164.51     B        B3  ...   \n",
              "686533      10.75       648.54     B        B4  ...   \n",
              "900721       7.49       466.53     A        A4  ...   \n",
              "1727912     21.15       651.31     E        E2  ...   \n",
              "539691       8.59       455.18     A        A5  ...   \n",
              "\n",
              "        hardship_payoff_balance_amount hardship_last_payment_amount  \\\n",
              "1758049                            NaN                          NaN   \n",
              "686533                             NaN                          NaN   \n",
              "900721                             NaN                          NaN   \n",
              "1727912                            NaN                          NaN   \n",
              "539691                             NaN                          NaN   \n",
              "\n",
              "        disbursement_method  debt_settlement_flag debt_settlement_flag_date  \\\n",
              "1758049                Cash                     N                       NaN   \n",
              "686533                 Cash                     N                       NaN   \n",
              "900721                 Cash                     N                       NaN   \n",
              "1727912                Cash                     N                       NaN   \n",
              "539691                 Cash                     N                       NaN   \n",
              "\n",
              "        settlement_status settlement_date settlement_amount  \\\n",
              "1758049               NaN             NaN               NaN   \n",
              "686533                NaN             NaN               NaN   \n",
              "900721                NaN             NaN               NaN   \n",
              "1727912               NaN             NaN               NaN   \n",
              "539691                NaN             NaN               NaN   \n",
              "\n",
              "         settlement_percentage settlement_term  \n",
              "1758049                    NaN             NaN  \n",
              "686533                     NaN             NaN  \n",
              "900721                     NaN             NaN  \n",
              "1727912                    NaN             NaN  \n",
              "539691                     NaN             NaN  \n",
              "\n",
              "[5 rows x 145 columns]"
            ],
            "text/html": [
              "\n",
              "  <div id=\"df-91381c57-a45d-4d26-a5d8-f3ad8b2c358f\" class=\"colab-df-container\">\n",
              "    <div>\n",
              "<style scoped>\n",
              "    .dataframe tbody tr th:only-of-type {\n",
              "        vertical-align: middle;\n",
              "    }\n",
              "\n",
              "    .dataframe tbody tr th {\n",
              "        vertical-align: top;\n",
              "    }\n",
              "\n",
              "    .dataframe thead th {\n",
              "        text-align: right;\n",
              "    }\n",
              "</style>\n",
              "<table border=\"1\" class=\"dataframe\">\n",
              "  <thead>\n",
              "    <tr style=\"text-align: right;\">\n",
              "      <th></th>\n",
              "      <th>id</th>\n",
              "      <th>member_id</th>\n",
              "      <th>loan_amnt</th>\n",
              "      <th>funded_amnt</th>\n",
              "      <th>funded_amnt_inv</th>\n",
              "      <th>term</th>\n",
              "      <th>int_rate</th>\n",
              "      <th>installment</th>\n",
              "      <th>grade</th>\n",
              "      <th>sub_grade</th>\n",
              "      <th>...</th>\n",
              "      <th>hardship_payoff_balance_amount</th>\n",
              "      <th>hardship_last_payment_amount</th>\n",
              "      <th>disbursement_method</th>\n",
              "      <th>debt_settlement_flag</th>\n",
              "      <th>debt_settlement_flag_date</th>\n",
              "      <th>settlement_status</th>\n",
              "      <th>settlement_date</th>\n",
              "      <th>settlement_amount</th>\n",
              "      <th>settlement_percentage</th>\n",
              "      <th>settlement_term</th>\n",
              "    </tr>\n",
              "  </thead>\n",
              "  <tbody>\n",
              "    <tr>\n",
              "      <th>1758049</th>\n",
              "      <td>NaN</td>\n",
              "      <td>NaN</td>\n",
              "      <td>35000</td>\n",
              "      <td>35000</td>\n",
              "      <td>35000.0</td>\n",
              "      <td>36 months</td>\n",
              "      <td>12.12</td>\n",
              "      <td>1164.51</td>\n",
              "      <td>B</td>\n",
              "      <td>B3</td>\n",
              "      <td>...</td>\n",
              "      <td>NaN</td>\n",
              "      <td>NaN</td>\n",
              "      <td>Cash</td>\n",
              "      <td>N</td>\n",
              "      <td>NaN</td>\n",
              "      <td>NaN</td>\n",
              "      <td>NaN</td>\n",
              "      <td>NaN</td>\n",
              "      <td>NaN</td>\n",
              "      <td>NaN</td>\n",
              "    </tr>\n",
              "    <tr>\n",
              "      <th>686533</th>\n",
              "      <td>NaN</td>\n",
              "      <td>NaN</td>\n",
              "      <td>30000</td>\n",
              "      <td>30000</td>\n",
              "      <td>30000.0</td>\n",
              "      <td>60 months</td>\n",
              "      <td>10.75</td>\n",
              "      <td>648.54</td>\n",
              "      <td>B</td>\n",
              "      <td>B4</td>\n",
              "      <td>...</td>\n",
              "      <td>NaN</td>\n",
              "      <td>NaN</td>\n",
              "      <td>Cash</td>\n",
              "      <td>N</td>\n",
              "      <td>NaN</td>\n",
              "      <td>NaN</td>\n",
              "      <td>NaN</td>\n",
              "      <td>NaN</td>\n",
              "      <td>NaN</td>\n",
              "      <td>NaN</td>\n",
              "    </tr>\n",
              "    <tr>\n",
              "      <th>900721</th>\n",
              "      <td>NaN</td>\n",
              "      <td>NaN</td>\n",
              "      <td>15000</td>\n",
              "      <td>15000</td>\n",
              "      <td>15000.0</td>\n",
              "      <td>36 months</td>\n",
              "      <td>7.49</td>\n",
              "      <td>466.53</td>\n",
              "      <td>A</td>\n",
              "      <td>A4</td>\n",
              "      <td>...</td>\n",
              "      <td>NaN</td>\n",
              "      <td>NaN</td>\n",
              "      <td>Cash</td>\n",
              "      <td>N</td>\n",
              "      <td>NaN</td>\n",
              "      <td>NaN</td>\n",
              "      <td>NaN</td>\n",
              "      <td>NaN</td>\n",
              "      <td>NaN</td>\n",
              "      <td>NaN</td>\n",
              "    </tr>\n",
              "    <tr>\n",
              "      <th>1727912</th>\n",
              "      <td>NaN</td>\n",
              "      <td>NaN</td>\n",
              "      <td>24000</td>\n",
              "      <td>24000</td>\n",
              "      <td>24000.0</td>\n",
              "      <td>60 months</td>\n",
              "      <td>21.15</td>\n",
              "      <td>651.31</td>\n",
              "      <td>E</td>\n",
              "      <td>E2</td>\n",
              "      <td>...</td>\n",
              "      <td>NaN</td>\n",
              "      <td>NaN</td>\n",
              "      <td>Cash</td>\n",
              "      <td>N</td>\n",
              "      <td>NaN</td>\n",
              "      <td>NaN</td>\n",
              "      <td>NaN</td>\n",
              "      <td>NaN</td>\n",
              "      <td>NaN</td>\n",
              "      <td>NaN</td>\n",
              "    </tr>\n",
              "    <tr>\n",
              "      <th>539691</th>\n",
              "      <td>NaN</td>\n",
              "      <td>NaN</td>\n",
              "      <td>14400</td>\n",
              "      <td>14400</td>\n",
              "      <td>14400.0</td>\n",
              "      <td>36 months</td>\n",
              "      <td>8.59</td>\n",
              "      <td>455.18</td>\n",
              "      <td>A</td>\n",
              "      <td>A5</td>\n",
              "      <td>...</td>\n",
              "      <td>NaN</td>\n",
              "      <td>NaN</td>\n",
              "      <td>Cash</td>\n",
              "      <td>N</td>\n",
              "      <td>NaN</td>\n",
              "      <td>NaN</td>\n",
              "      <td>NaN</td>\n",
              "      <td>NaN</td>\n",
              "      <td>NaN</td>\n",
              "      <td>NaN</td>\n",
              "    </tr>\n",
              "  </tbody>\n",
              "</table>\n",
              "<p>5 rows × 145 columns</p>\n",
              "</div>\n",
              "    <div class=\"colab-df-buttons\">\n",
              "\n",
              "  <div class=\"colab-df-container\">\n",
              "    <button class=\"colab-df-convert\" onclick=\"convertToInteractive('df-91381c57-a45d-4d26-a5d8-f3ad8b2c358f')\"\n",
              "            title=\"Convert this dataframe to an interactive table.\"\n",
              "            style=\"display:none;\">\n",
              "\n",
              "  <svg xmlns=\"http://www.w3.org/2000/svg\" height=\"24px\" viewBox=\"0 -960 960 960\">\n",
              "    <path d=\"M120-120v-720h720v720H120Zm60-500h600v-160H180v160Zm220 220h160v-160H400v160Zm0 220h160v-160H400v160ZM180-400h160v-160H180v160Zm440 0h160v-160H620v160ZM180-180h160v-160H180v160Zm440 0h160v-160H620v160Z\"/>\n",
              "  </svg>\n",
              "    </button>\n",
              "\n",
              "  <style>\n",
              "    .colab-df-container {\n",
              "      display:flex;\n",
              "      gap: 12px;\n",
              "    }\n",
              "\n",
              "    .colab-df-convert {\n",
              "      background-color: #E8F0FE;\n",
              "      border: none;\n",
              "      border-radius: 50%;\n",
              "      cursor: pointer;\n",
              "      display: none;\n",
              "      fill: #1967D2;\n",
              "      height: 32px;\n",
              "      padding: 0 0 0 0;\n",
              "      width: 32px;\n",
              "    }\n",
              "\n",
              "    .colab-df-convert:hover {\n",
              "      background-color: #E2EBFA;\n",
              "      box-shadow: 0px 1px 2px rgba(60, 64, 67, 0.3), 0px 1px 3px 1px rgba(60, 64, 67, 0.15);\n",
              "      fill: #174EA6;\n",
              "    }\n",
              "\n",
              "    .colab-df-buttons div {\n",
              "      margin-bottom: 4px;\n",
              "    }\n",
              "\n",
              "    [theme=dark] .colab-df-convert {\n",
              "      background-color: #3B4455;\n",
              "      fill: #D2E3FC;\n",
              "    }\n",
              "\n",
              "    [theme=dark] .colab-df-convert:hover {\n",
              "      background-color: #434B5C;\n",
              "      box-shadow: 0px 1px 3px 1px rgba(0, 0, 0, 0.15);\n",
              "      filter: drop-shadow(0px 1px 2px rgba(0, 0, 0, 0.3));\n",
              "      fill: #FFFFFF;\n",
              "    }\n",
              "  </style>\n",
              "\n",
              "    <script>\n",
              "      const buttonEl =\n",
              "        document.querySelector('#df-91381c57-a45d-4d26-a5d8-f3ad8b2c358f button.colab-df-convert');\n",
              "      buttonEl.style.display =\n",
              "        google.colab.kernel.accessAllowed ? 'block' : 'none';\n",
              "\n",
              "      async function convertToInteractive(key) {\n",
              "        const element = document.querySelector('#df-91381c57-a45d-4d26-a5d8-f3ad8b2c358f');\n",
              "        const dataTable =\n",
              "          await google.colab.kernel.invokeFunction('convertToInteractive',\n",
              "                                                    [key], {});\n",
              "        if (!dataTable) return;\n",
              "\n",
              "        const docLinkHtml = 'Like what you see? Visit the ' +\n",
              "          '<a target=\"_blank\" href=https://colab.research.google.com/notebooks/data_table.ipynb>data table notebook</a>'\n",
              "          + ' to learn more about interactive tables.';\n",
              "        element.innerHTML = '';\n",
              "        dataTable['output_type'] = 'display_data';\n",
              "        await google.colab.output.renderOutput(dataTable, element);\n",
              "        const docLink = document.createElement('div');\n",
              "        docLink.innerHTML = docLinkHtml;\n",
              "        element.appendChild(docLink);\n",
              "      }\n",
              "    </script>\n",
              "  </div>\n",
              "\n",
              "\n",
              "<div id=\"df-6fbbf502-b836-4b45-80e6-4fd060d8310c\">\n",
              "  <button class=\"colab-df-quickchart\" onclick=\"quickchart('df-6fbbf502-b836-4b45-80e6-4fd060d8310c')\"\n",
              "            title=\"Suggest charts\"\n",
              "            style=\"display:none;\">\n",
              "\n",
              "<svg xmlns=\"http://www.w3.org/2000/svg\" height=\"24px\"viewBox=\"0 0 24 24\"\n",
              "     width=\"24px\">\n",
              "    <g>\n",
              "        <path d=\"M19 3H5c-1.1 0-2 .9-2 2v14c0 1.1.9 2 2 2h14c1.1 0 2-.9 2-2V5c0-1.1-.9-2-2-2zM9 17H7v-7h2v7zm4 0h-2V7h2v10zm4 0h-2v-4h2v4z\"/>\n",
              "    </g>\n",
              "</svg>\n",
              "  </button>\n",
              "\n",
              "<style>\n",
              "  .colab-df-quickchart {\n",
              "      --bg-color: #E8F0FE;\n",
              "      --fill-color: #1967D2;\n",
              "      --hover-bg-color: #E2EBFA;\n",
              "      --hover-fill-color: #174EA6;\n",
              "      --disabled-fill-color: #AAA;\n",
              "      --disabled-bg-color: #DDD;\n",
              "  }\n",
              "\n",
              "  [theme=dark] .colab-df-quickchart {\n",
              "      --bg-color: #3B4455;\n",
              "      --fill-color: #D2E3FC;\n",
              "      --hover-bg-color: #434B5C;\n",
              "      --hover-fill-color: #FFFFFF;\n",
              "      --disabled-bg-color: #3B4455;\n",
              "      --disabled-fill-color: #666;\n",
              "  }\n",
              "\n",
              "  .colab-df-quickchart {\n",
              "    background-color: var(--bg-color);\n",
              "    border: none;\n",
              "    border-radius: 50%;\n",
              "    cursor: pointer;\n",
              "    display: none;\n",
              "    fill: var(--fill-color);\n",
              "    height: 32px;\n",
              "    padding: 0;\n",
              "    width: 32px;\n",
              "  }\n",
              "\n",
              "  .colab-df-quickchart:hover {\n",
              "    background-color: var(--hover-bg-color);\n",
              "    box-shadow: 0 1px 2px rgba(60, 64, 67, 0.3), 0 1px 3px 1px rgba(60, 64, 67, 0.15);\n",
              "    fill: var(--button-hover-fill-color);\n",
              "  }\n",
              "\n",
              "  .colab-df-quickchart-complete:disabled,\n",
              "  .colab-df-quickchart-complete:disabled:hover {\n",
              "    background-color: var(--disabled-bg-color);\n",
              "    fill: var(--disabled-fill-color);\n",
              "    box-shadow: none;\n",
              "  }\n",
              "\n",
              "  .colab-df-spinner {\n",
              "    border: 2px solid var(--fill-color);\n",
              "    border-color: transparent;\n",
              "    border-bottom-color: var(--fill-color);\n",
              "    animation:\n",
              "      spin 1s steps(1) infinite;\n",
              "  }\n",
              "\n",
              "  @keyframes spin {\n",
              "    0% {\n",
              "      border-color: transparent;\n",
              "      border-bottom-color: var(--fill-color);\n",
              "      border-left-color: var(--fill-color);\n",
              "    }\n",
              "    20% {\n",
              "      border-color: transparent;\n",
              "      border-left-color: var(--fill-color);\n",
              "      border-top-color: var(--fill-color);\n",
              "    }\n",
              "    30% {\n",
              "      border-color: transparent;\n",
              "      border-left-color: var(--fill-color);\n",
              "      border-top-color: var(--fill-color);\n",
              "      border-right-color: var(--fill-color);\n",
              "    }\n",
              "    40% {\n",
              "      border-color: transparent;\n",
              "      border-right-color: var(--fill-color);\n",
              "      border-top-color: var(--fill-color);\n",
              "    }\n",
              "    60% {\n",
              "      border-color: transparent;\n",
              "      border-right-color: var(--fill-color);\n",
              "    }\n",
              "    80% {\n",
              "      border-color: transparent;\n",
              "      border-right-color: var(--fill-color);\n",
              "      border-bottom-color: var(--fill-color);\n",
              "    }\n",
              "    90% {\n",
              "      border-color: transparent;\n",
              "      border-bottom-color: var(--fill-color);\n",
              "    }\n",
              "  }\n",
              "</style>\n",
              "\n",
              "  <script>\n",
              "    async function quickchart(key) {\n",
              "      const quickchartButtonEl =\n",
              "        document.querySelector('#' + key + ' button');\n",
              "      quickchartButtonEl.disabled = true;  // To prevent multiple clicks.\n",
              "      quickchartButtonEl.classList.add('colab-df-spinner');\n",
              "      try {\n",
              "        const charts = await google.colab.kernel.invokeFunction(\n",
              "            'suggestCharts', [key], {});\n",
              "      } catch (error) {\n",
              "        console.error('Error during call to suggestCharts:', error);\n",
              "      }\n",
              "      quickchartButtonEl.classList.remove('colab-df-spinner');\n",
              "      quickchartButtonEl.classList.add('colab-df-quickchart-complete');\n",
              "    }\n",
              "    (() => {\n",
              "      let quickchartButtonEl =\n",
              "        document.querySelector('#df-6fbbf502-b836-4b45-80e6-4fd060d8310c button');\n",
              "      quickchartButtonEl.style.display =\n",
              "        google.colab.kernel.accessAllowed ? 'block' : 'none';\n",
              "    })();\n",
              "  </script>\n",
              "</div>\n",
              "\n",
              "    </div>\n",
              "  </div>\n"
            ],
            "application/vnd.google.colaboratory.intrinsic+json": {
              "type": "dataframe",
              "variable_name": "loan_data_sample"
            }
          },
          "metadata": {},
          "execution_count": 7
        }
      ]
    },
    {
      "cell_type": "code",
      "source": [
        "print(\"Table 1: Descriptive Statistics:\")\n",
        "loan_data_sample.describe().round(2)"
      ],
      "metadata": {
        "colab": {
          "base_uri": "https://localhost:8080/",
          "height": 368
        },
        "id": "dEbd57770wdN",
        "outputId": "675e611a-da65-4a5a-eed7-ea1f302c4375"
      },
      "execution_count": 8,
      "outputs": [
        {
          "output_type": "stream",
          "name": "stdout",
          "text": [
            "Table 1: Descriptive Statistics:\n"
          ]
        },
        {
          "output_type": "execute_result",
          "data": {
            "text/plain": [
              "        id  member_id  loan_amnt  funded_amnt  funded_amnt_inv   int_rate  \\\n",
              "count  0.0        0.0  678200.00    678200.00        678200.00  678200.00   \n",
              "mean   NaN        NaN   15063.79     15058.51         15040.42      13.10   \n",
              "std    NaN        NaN    9189.32      9187.32          9191.01       4.83   \n",
              "min    NaN        NaN     500.00       500.00             0.00       5.31   \n",
              "25%    NaN        NaN    8000.00      8000.00          8000.00       9.49   \n",
              "50%    NaN        NaN   13000.00     13000.00         12875.00      12.62   \n",
              "75%    NaN        NaN   20000.00     20000.00         20000.00      15.99   \n",
              "max    NaN        NaN   40000.00     40000.00         40000.00      30.99   \n",
              "\n",
              "       installment   annual_inc  url        dti  ...  deferral_term  \\\n",
              "count    678200.00    678199.00  0.0  677684.00  ...         3120.0   \n",
              "mean        446.30     77946.48  NaN      18.85  ...            3.0   \n",
              "std         267.19     74649.50  NaN      14.53  ...            0.0   \n",
              "min          15.69         0.00  NaN      -1.00  ...            3.0   \n",
              "25%         251.98     46000.00  NaN      11.91  ...            3.0   \n",
              "50%         378.59     65000.00  NaN      17.85  ...            3.0   \n",
              "75%         593.82     93000.00  NaN      24.50  ...            3.0   \n",
              "max        1717.63  10999200.00  NaN     999.00  ...            3.0   \n",
              "\n",
              "       hardship_amount  hardship_length  hardship_dpd  \\\n",
              "count          3120.00           3120.0       3120.00   \n",
              "mean            151.33              3.0         13.77   \n",
              "std             125.54              0.0          9.75   \n",
              "min               1.61              3.0          0.00   \n",
              "25%              57.76              3.0          5.00   \n",
              "50%             116.40              3.0         15.00   \n",
              "75%             208.74              3.0         23.00   \n",
              "max             893.63              3.0         31.00   \n",
              "\n",
              "       orig_projected_additional_accrued_interest  \\\n",
              "count                                     2484.00   \n",
              "mean                                       444.48   \n",
              "std                                        366.31   \n",
              "min                                         10.17   \n",
              "25%                                        171.97   \n",
              "50%                                        344.52   \n",
              "75%                                        609.23   \n",
              "max                                       2680.89   \n",
              "\n",
              "       hardship_payoff_balance_amount  hardship_last_payment_amount  \\\n",
              "count                         3120.00                       3120.00   \n",
              "mean                         11385.30                        194.32   \n",
              "std                           7421.83                        201.58   \n",
              "min                            193.98                          0.01   \n",
              "25%                           5531.34                         43.69   \n",
              "50%                           9919.18                        128.99   \n",
              "75%                          15698.72                        286.32   \n",
              "max                          40149.35                       1275.36   \n",
              "\n",
              "       settlement_amount  settlement_percentage  settlement_term  \n",
              "count            9997.00                9997.00          9997.00  \n",
              "mean             5028.51                  47.83            13.09  \n",
              "std              3699.03                   7.13             8.07  \n",
              "min               107.00                   0.45             0.00  \n",
              "25%              2240.75                  45.00             6.00  \n",
              "50%              4179.00                  45.00            14.00  \n",
              "75%              6831.00                  50.00            18.00  \n",
              "max             30000.00                 184.36            50.00  \n",
              "\n",
              "[8 rows x 109 columns]"
            ],
            "text/html": [
              "\n",
              "  <div id=\"df-32255e15-8834-4fe9-ae06-7f52399eebf0\" class=\"colab-df-container\">\n",
              "    <div>\n",
              "<style scoped>\n",
              "    .dataframe tbody tr th:only-of-type {\n",
              "        vertical-align: middle;\n",
              "    }\n",
              "\n",
              "    .dataframe tbody tr th {\n",
              "        vertical-align: top;\n",
              "    }\n",
              "\n",
              "    .dataframe thead th {\n",
              "        text-align: right;\n",
              "    }\n",
              "</style>\n",
              "<table border=\"1\" class=\"dataframe\">\n",
              "  <thead>\n",
              "    <tr style=\"text-align: right;\">\n",
              "      <th></th>\n",
              "      <th>id</th>\n",
              "      <th>member_id</th>\n",
              "      <th>loan_amnt</th>\n",
              "      <th>funded_amnt</th>\n",
              "      <th>funded_amnt_inv</th>\n",
              "      <th>int_rate</th>\n",
              "      <th>installment</th>\n",
              "      <th>annual_inc</th>\n",
              "      <th>url</th>\n",
              "      <th>dti</th>\n",
              "      <th>...</th>\n",
              "      <th>deferral_term</th>\n",
              "      <th>hardship_amount</th>\n",
              "      <th>hardship_length</th>\n",
              "      <th>hardship_dpd</th>\n",
              "      <th>orig_projected_additional_accrued_interest</th>\n",
              "      <th>hardship_payoff_balance_amount</th>\n",
              "      <th>hardship_last_payment_amount</th>\n",
              "      <th>settlement_amount</th>\n",
              "      <th>settlement_percentage</th>\n",
              "      <th>settlement_term</th>\n",
              "    </tr>\n",
              "  </thead>\n",
              "  <tbody>\n",
              "    <tr>\n",
              "      <th>count</th>\n",
              "      <td>0.0</td>\n",
              "      <td>0.0</td>\n",
              "      <td>678200.00</td>\n",
              "      <td>678200.00</td>\n",
              "      <td>678200.00</td>\n",
              "      <td>678200.00</td>\n",
              "      <td>678200.00</td>\n",
              "      <td>678199.00</td>\n",
              "      <td>0.0</td>\n",
              "      <td>677684.00</td>\n",
              "      <td>...</td>\n",
              "      <td>3120.0</td>\n",
              "      <td>3120.00</td>\n",
              "      <td>3120.0</td>\n",
              "      <td>3120.00</td>\n",
              "      <td>2484.00</td>\n",
              "      <td>3120.00</td>\n",
              "      <td>3120.00</td>\n",
              "      <td>9997.00</td>\n",
              "      <td>9997.00</td>\n",
              "      <td>9997.00</td>\n",
              "    </tr>\n",
              "    <tr>\n",
              "      <th>mean</th>\n",
              "      <td>NaN</td>\n",
              "      <td>NaN</td>\n",
              "      <td>15063.79</td>\n",
              "      <td>15058.51</td>\n",
              "      <td>15040.42</td>\n",
              "      <td>13.10</td>\n",
              "      <td>446.30</td>\n",
              "      <td>77946.48</td>\n",
              "      <td>NaN</td>\n",
              "      <td>18.85</td>\n",
              "      <td>...</td>\n",
              "      <td>3.0</td>\n",
              "      <td>151.33</td>\n",
              "      <td>3.0</td>\n",
              "      <td>13.77</td>\n",
              "      <td>444.48</td>\n",
              "      <td>11385.30</td>\n",
              "      <td>194.32</td>\n",
              "      <td>5028.51</td>\n",
              "      <td>47.83</td>\n",
              "      <td>13.09</td>\n",
              "    </tr>\n",
              "    <tr>\n",
              "      <th>std</th>\n",
              "      <td>NaN</td>\n",
              "      <td>NaN</td>\n",
              "      <td>9189.32</td>\n",
              "      <td>9187.32</td>\n",
              "      <td>9191.01</td>\n",
              "      <td>4.83</td>\n",
              "      <td>267.19</td>\n",
              "      <td>74649.50</td>\n",
              "      <td>NaN</td>\n",
              "      <td>14.53</td>\n",
              "      <td>...</td>\n",
              "      <td>0.0</td>\n",
              "      <td>125.54</td>\n",
              "      <td>0.0</td>\n",
              "      <td>9.75</td>\n",
              "      <td>366.31</td>\n",
              "      <td>7421.83</td>\n",
              "      <td>201.58</td>\n",
              "      <td>3699.03</td>\n",
              "      <td>7.13</td>\n",
              "      <td>8.07</td>\n",
              "    </tr>\n",
              "    <tr>\n",
              "      <th>min</th>\n",
              "      <td>NaN</td>\n",
              "      <td>NaN</td>\n",
              "      <td>500.00</td>\n",
              "      <td>500.00</td>\n",
              "      <td>0.00</td>\n",
              "      <td>5.31</td>\n",
              "      <td>15.69</td>\n",
              "      <td>0.00</td>\n",
              "      <td>NaN</td>\n",
              "      <td>-1.00</td>\n",
              "      <td>...</td>\n",
              "      <td>3.0</td>\n",
              "      <td>1.61</td>\n",
              "      <td>3.0</td>\n",
              "      <td>0.00</td>\n",
              "      <td>10.17</td>\n",
              "      <td>193.98</td>\n",
              "      <td>0.01</td>\n",
              "      <td>107.00</td>\n",
              "      <td>0.45</td>\n",
              "      <td>0.00</td>\n",
              "    </tr>\n",
              "    <tr>\n",
              "      <th>25%</th>\n",
              "      <td>NaN</td>\n",
              "      <td>NaN</td>\n",
              "      <td>8000.00</td>\n",
              "      <td>8000.00</td>\n",
              "      <td>8000.00</td>\n",
              "      <td>9.49</td>\n",
              "      <td>251.98</td>\n",
              "      <td>46000.00</td>\n",
              "      <td>NaN</td>\n",
              "      <td>11.91</td>\n",
              "      <td>...</td>\n",
              "      <td>3.0</td>\n",
              "      <td>57.76</td>\n",
              "      <td>3.0</td>\n",
              "      <td>5.00</td>\n",
              "      <td>171.97</td>\n",
              "      <td>5531.34</td>\n",
              "      <td>43.69</td>\n",
              "      <td>2240.75</td>\n",
              "      <td>45.00</td>\n",
              "      <td>6.00</td>\n",
              "    </tr>\n",
              "    <tr>\n",
              "      <th>50%</th>\n",
              "      <td>NaN</td>\n",
              "      <td>NaN</td>\n",
              "      <td>13000.00</td>\n",
              "      <td>13000.00</td>\n",
              "      <td>12875.00</td>\n",
              "      <td>12.62</td>\n",
              "      <td>378.59</td>\n",
              "      <td>65000.00</td>\n",
              "      <td>NaN</td>\n",
              "      <td>17.85</td>\n",
              "      <td>...</td>\n",
              "      <td>3.0</td>\n",
              "      <td>116.40</td>\n",
              "      <td>3.0</td>\n",
              "      <td>15.00</td>\n",
              "      <td>344.52</td>\n",
              "      <td>9919.18</td>\n",
              "      <td>128.99</td>\n",
              "      <td>4179.00</td>\n",
              "      <td>45.00</td>\n",
              "      <td>14.00</td>\n",
              "    </tr>\n",
              "    <tr>\n",
              "      <th>75%</th>\n",
              "      <td>NaN</td>\n",
              "      <td>NaN</td>\n",
              "      <td>20000.00</td>\n",
              "      <td>20000.00</td>\n",
              "      <td>20000.00</td>\n",
              "      <td>15.99</td>\n",
              "      <td>593.82</td>\n",
              "      <td>93000.00</td>\n",
              "      <td>NaN</td>\n",
              "      <td>24.50</td>\n",
              "      <td>...</td>\n",
              "      <td>3.0</td>\n",
              "      <td>208.74</td>\n",
              "      <td>3.0</td>\n",
              "      <td>23.00</td>\n",
              "      <td>609.23</td>\n",
              "      <td>15698.72</td>\n",
              "      <td>286.32</td>\n",
              "      <td>6831.00</td>\n",
              "      <td>50.00</td>\n",
              "      <td>18.00</td>\n",
              "    </tr>\n",
              "    <tr>\n",
              "      <th>max</th>\n",
              "      <td>NaN</td>\n",
              "      <td>NaN</td>\n",
              "      <td>40000.00</td>\n",
              "      <td>40000.00</td>\n",
              "      <td>40000.00</td>\n",
              "      <td>30.99</td>\n",
              "      <td>1717.63</td>\n",
              "      <td>10999200.00</td>\n",
              "      <td>NaN</td>\n",
              "      <td>999.00</td>\n",
              "      <td>...</td>\n",
              "      <td>3.0</td>\n",
              "      <td>893.63</td>\n",
              "      <td>3.0</td>\n",
              "      <td>31.00</td>\n",
              "      <td>2680.89</td>\n",
              "      <td>40149.35</td>\n",
              "      <td>1275.36</td>\n",
              "      <td>30000.00</td>\n",
              "      <td>184.36</td>\n",
              "      <td>50.00</td>\n",
              "    </tr>\n",
              "  </tbody>\n",
              "</table>\n",
              "<p>8 rows × 109 columns</p>\n",
              "</div>\n",
              "    <div class=\"colab-df-buttons\">\n",
              "\n",
              "  <div class=\"colab-df-container\">\n",
              "    <button class=\"colab-df-convert\" onclick=\"convertToInteractive('df-32255e15-8834-4fe9-ae06-7f52399eebf0')\"\n",
              "            title=\"Convert this dataframe to an interactive table.\"\n",
              "            style=\"display:none;\">\n",
              "\n",
              "  <svg xmlns=\"http://www.w3.org/2000/svg\" height=\"24px\" viewBox=\"0 -960 960 960\">\n",
              "    <path d=\"M120-120v-720h720v720H120Zm60-500h600v-160H180v160Zm220 220h160v-160H400v160Zm0 220h160v-160H400v160ZM180-400h160v-160H180v160Zm440 0h160v-160H620v160ZM180-180h160v-160H180v160Zm440 0h160v-160H620v160Z\"/>\n",
              "  </svg>\n",
              "    </button>\n",
              "\n",
              "  <style>\n",
              "    .colab-df-container {\n",
              "      display:flex;\n",
              "      gap: 12px;\n",
              "    }\n",
              "\n",
              "    .colab-df-convert {\n",
              "      background-color: #E8F0FE;\n",
              "      border: none;\n",
              "      border-radius: 50%;\n",
              "      cursor: pointer;\n",
              "      display: none;\n",
              "      fill: #1967D2;\n",
              "      height: 32px;\n",
              "      padding: 0 0 0 0;\n",
              "      width: 32px;\n",
              "    }\n",
              "\n",
              "    .colab-df-convert:hover {\n",
              "      background-color: #E2EBFA;\n",
              "      box-shadow: 0px 1px 2px rgba(60, 64, 67, 0.3), 0px 1px 3px 1px rgba(60, 64, 67, 0.15);\n",
              "      fill: #174EA6;\n",
              "    }\n",
              "\n",
              "    .colab-df-buttons div {\n",
              "      margin-bottom: 4px;\n",
              "    }\n",
              "\n",
              "    [theme=dark] .colab-df-convert {\n",
              "      background-color: #3B4455;\n",
              "      fill: #D2E3FC;\n",
              "    }\n",
              "\n",
              "    [theme=dark] .colab-df-convert:hover {\n",
              "      background-color: #434B5C;\n",
              "      box-shadow: 0px 1px 3px 1px rgba(0, 0, 0, 0.15);\n",
              "      filter: drop-shadow(0px 1px 2px rgba(0, 0, 0, 0.3));\n",
              "      fill: #FFFFFF;\n",
              "    }\n",
              "  </style>\n",
              "\n",
              "    <script>\n",
              "      const buttonEl =\n",
              "        document.querySelector('#df-32255e15-8834-4fe9-ae06-7f52399eebf0 button.colab-df-convert');\n",
              "      buttonEl.style.display =\n",
              "        google.colab.kernel.accessAllowed ? 'block' : 'none';\n",
              "\n",
              "      async function convertToInteractive(key) {\n",
              "        const element = document.querySelector('#df-32255e15-8834-4fe9-ae06-7f52399eebf0');\n",
              "        const dataTable =\n",
              "          await google.colab.kernel.invokeFunction('convertToInteractive',\n",
              "                                                    [key], {});\n",
              "        if (!dataTable) return;\n",
              "\n",
              "        const docLinkHtml = 'Like what you see? Visit the ' +\n",
              "          '<a target=\"_blank\" href=https://colab.research.google.com/notebooks/data_table.ipynb>data table notebook</a>'\n",
              "          + ' to learn more about interactive tables.';\n",
              "        element.innerHTML = '';\n",
              "        dataTable['output_type'] = 'display_data';\n",
              "        await google.colab.output.renderOutput(dataTable, element);\n",
              "        const docLink = document.createElement('div');\n",
              "        docLink.innerHTML = docLinkHtml;\n",
              "        element.appendChild(docLink);\n",
              "      }\n",
              "    </script>\n",
              "  </div>\n",
              "\n",
              "\n",
              "<div id=\"df-bbdee441-dbab-40bf-87d5-21935ab60af0\">\n",
              "  <button class=\"colab-df-quickchart\" onclick=\"quickchart('df-bbdee441-dbab-40bf-87d5-21935ab60af0')\"\n",
              "            title=\"Suggest charts\"\n",
              "            style=\"display:none;\">\n",
              "\n",
              "<svg xmlns=\"http://www.w3.org/2000/svg\" height=\"24px\"viewBox=\"0 0 24 24\"\n",
              "     width=\"24px\">\n",
              "    <g>\n",
              "        <path d=\"M19 3H5c-1.1 0-2 .9-2 2v14c0 1.1.9 2 2 2h14c1.1 0 2-.9 2-2V5c0-1.1-.9-2-2-2zM9 17H7v-7h2v7zm4 0h-2V7h2v10zm4 0h-2v-4h2v4z\"/>\n",
              "    </g>\n",
              "</svg>\n",
              "  </button>\n",
              "\n",
              "<style>\n",
              "  .colab-df-quickchart {\n",
              "      --bg-color: #E8F0FE;\n",
              "      --fill-color: #1967D2;\n",
              "      --hover-bg-color: #E2EBFA;\n",
              "      --hover-fill-color: #174EA6;\n",
              "      --disabled-fill-color: #AAA;\n",
              "      --disabled-bg-color: #DDD;\n",
              "  }\n",
              "\n",
              "  [theme=dark] .colab-df-quickchart {\n",
              "      --bg-color: #3B4455;\n",
              "      --fill-color: #D2E3FC;\n",
              "      --hover-bg-color: #434B5C;\n",
              "      --hover-fill-color: #FFFFFF;\n",
              "      --disabled-bg-color: #3B4455;\n",
              "      --disabled-fill-color: #666;\n",
              "  }\n",
              "\n",
              "  .colab-df-quickchart {\n",
              "    background-color: var(--bg-color);\n",
              "    border: none;\n",
              "    border-radius: 50%;\n",
              "    cursor: pointer;\n",
              "    display: none;\n",
              "    fill: var(--fill-color);\n",
              "    height: 32px;\n",
              "    padding: 0;\n",
              "    width: 32px;\n",
              "  }\n",
              "\n",
              "  .colab-df-quickchart:hover {\n",
              "    background-color: var(--hover-bg-color);\n",
              "    box-shadow: 0 1px 2px rgba(60, 64, 67, 0.3), 0 1px 3px 1px rgba(60, 64, 67, 0.15);\n",
              "    fill: var(--button-hover-fill-color);\n",
              "  }\n",
              "\n",
              "  .colab-df-quickchart-complete:disabled,\n",
              "  .colab-df-quickchart-complete:disabled:hover {\n",
              "    background-color: var(--disabled-bg-color);\n",
              "    fill: var(--disabled-fill-color);\n",
              "    box-shadow: none;\n",
              "  }\n",
              "\n",
              "  .colab-df-spinner {\n",
              "    border: 2px solid var(--fill-color);\n",
              "    border-color: transparent;\n",
              "    border-bottom-color: var(--fill-color);\n",
              "    animation:\n",
              "      spin 1s steps(1) infinite;\n",
              "  }\n",
              "\n",
              "  @keyframes spin {\n",
              "    0% {\n",
              "      border-color: transparent;\n",
              "      border-bottom-color: var(--fill-color);\n",
              "      border-left-color: var(--fill-color);\n",
              "    }\n",
              "    20% {\n",
              "      border-color: transparent;\n",
              "      border-left-color: var(--fill-color);\n",
              "      border-top-color: var(--fill-color);\n",
              "    }\n",
              "    30% {\n",
              "      border-color: transparent;\n",
              "      border-left-color: var(--fill-color);\n",
              "      border-top-color: var(--fill-color);\n",
              "      border-right-color: var(--fill-color);\n",
              "    }\n",
              "    40% {\n",
              "      border-color: transparent;\n",
              "      border-right-color: var(--fill-color);\n",
              "      border-top-color: var(--fill-color);\n",
              "    }\n",
              "    60% {\n",
              "      border-color: transparent;\n",
              "      border-right-color: var(--fill-color);\n",
              "    }\n",
              "    80% {\n",
              "      border-color: transparent;\n",
              "      border-right-color: var(--fill-color);\n",
              "      border-bottom-color: var(--fill-color);\n",
              "    }\n",
              "    90% {\n",
              "      border-color: transparent;\n",
              "      border-bottom-color: var(--fill-color);\n",
              "    }\n",
              "  }\n",
              "</style>\n",
              "\n",
              "  <script>\n",
              "    async function quickchart(key) {\n",
              "      const quickchartButtonEl =\n",
              "        document.querySelector('#' + key + ' button');\n",
              "      quickchartButtonEl.disabled = true;  // To prevent multiple clicks.\n",
              "      quickchartButtonEl.classList.add('colab-df-spinner');\n",
              "      try {\n",
              "        const charts = await google.colab.kernel.invokeFunction(\n",
              "            'suggestCharts', [key], {});\n",
              "      } catch (error) {\n",
              "        console.error('Error during call to suggestCharts:', error);\n",
              "      }\n",
              "      quickchartButtonEl.classList.remove('colab-df-spinner');\n",
              "      quickchartButtonEl.classList.add('colab-df-quickchart-complete');\n",
              "    }\n",
              "    (() => {\n",
              "      let quickchartButtonEl =\n",
              "        document.querySelector('#df-bbdee441-dbab-40bf-87d5-21935ab60af0 button');\n",
              "      quickchartButtonEl.style.display =\n",
              "        google.colab.kernel.accessAllowed ? 'block' : 'none';\n",
              "    })();\n",
              "  </script>\n",
              "</div>\n",
              "\n",
              "    </div>\n",
              "  </div>\n"
            ],
            "application/vnd.google.colaboratory.intrinsic+json": {
              "type": "dataframe"
            }
          },
          "metadata": {},
          "execution_count": 8
        }
      ]
    },
    {
      "cell_type": "code",
      "source": [
        "# Get all features\n",
        "features = loan_data_sample.columns.tolist()\n",
        "print(\"All Features:\", features)\n",
        "\n",
        "# Separate numerical and categorical features\n",
        "numerical_features = loan_data_sample.select_dtypes(include=['float64', 'int64']).columns.tolist()\n",
        "categorical_features = loan_data_sample.select_dtypes(include=['object']).columns.tolist()\n",
        "\n",
        "print(\"Numerical Features:\", numerical_features)\n",
        "print(\"Categorical Features:\", categorical_features)"
      ],
      "metadata": {
        "colab": {
          "base_uri": "https://localhost:8080/"
        },
        "id": "rxtBhV3ZEFyk",
        "outputId": "55ad9e71-d253-4abf-b77b-189c3bcd8aaa"
      },
      "execution_count": 9,
      "outputs": [
        {
          "output_type": "stream",
          "name": "stdout",
          "text": [
            "All Features: ['id', 'member_id', 'loan_amnt', 'funded_amnt', 'funded_amnt_inv', 'term', 'int_rate', 'installment', 'grade', 'sub_grade', 'emp_title', 'emp_length', 'home_ownership', 'annual_inc', 'verification_status', 'issue_d', 'loan_status', 'pymnt_plan', 'url', 'desc', 'purpose', 'title', 'zip_code', 'addr_state', 'dti', 'delinq_2yrs', 'earliest_cr_line', 'inq_last_6mths', 'mths_since_last_delinq', 'mths_since_last_record', 'open_acc', 'pub_rec', 'revol_bal', 'revol_util', 'total_acc', 'initial_list_status', 'out_prncp', 'out_prncp_inv', 'total_pymnt', 'total_pymnt_inv', 'total_rec_prncp', 'total_rec_int', 'total_rec_late_fee', 'recoveries', 'collection_recovery_fee', 'last_pymnt_d', 'last_pymnt_amnt', 'next_pymnt_d', 'last_credit_pull_d', 'collections_12_mths_ex_med', 'mths_since_last_major_derog', 'policy_code', 'application_type', 'annual_inc_joint', 'dti_joint', 'verification_status_joint', 'acc_now_delinq', 'tot_coll_amt', 'tot_cur_bal', 'open_acc_6m', 'open_act_il', 'open_il_12m', 'open_il_24m', 'mths_since_rcnt_il', 'total_bal_il', 'il_util', 'open_rv_12m', 'open_rv_24m', 'max_bal_bc', 'all_util', 'total_rev_hi_lim', 'inq_fi', 'total_cu_tl', 'inq_last_12m', 'acc_open_past_24mths', 'avg_cur_bal', 'bc_open_to_buy', 'bc_util', 'chargeoff_within_12_mths', 'delinq_amnt', 'mo_sin_old_il_acct', 'mo_sin_old_rev_tl_op', 'mo_sin_rcnt_rev_tl_op', 'mo_sin_rcnt_tl', 'mort_acc', 'mths_since_recent_bc', 'mths_since_recent_bc_dlq', 'mths_since_recent_inq', 'mths_since_recent_revol_delinq', 'num_accts_ever_120_pd', 'num_actv_bc_tl', 'num_actv_rev_tl', 'num_bc_sats', 'num_bc_tl', 'num_il_tl', 'num_op_rev_tl', 'num_rev_accts', 'num_rev_tl_bal_gt_0', 'num_sats', 'num_tl_120dpd_2m', 'num_tl_30dpd', 'num_tl_90g_dpd_24m', 'num_tl_op_past_12m', 'pct_tl_nvr_dlq', 'percent_bc_gt_75', 'pub_rec_bankruptcies', 'tax_liens', 'tot_hi_cred_lim', 'total_bal_ex_mort', 'total_bc_limit', 'total_il_high_credit_limit', 'revol_bal_joint', 'sec_app_earliest_cr_line', 'sec_app_inq_last_6mths', 'sec_app_mort_acc', 'sec_app_open_acc', 'sec_app_revol_util', 'sec_app_open_act_il', 'sec_app_num_rev_accts', 'sec_app_chargeoff_within_12_mths', 'sec_app_collections_12_mths_ex_med', 'sec_app_mths_since_last_major_derog', 'hardship_flag', 'hardship_type', 'hardship_reason', 'hardship_status', 'deferral_term', 'hardship_amount', 'hardship_start_date', 'hardship_end_date', 'payment_plan_start_date', 'hardship_length', 'hardship_dpd', 'hardship_loan_status', 'orig_projected_additional_accrued_interest', 'hardship_payoff_balance_amount', 'hardship_last_payment_amount', 'disbursement_method', 'debt_settlement_flag', 'debt_settlement_flag_date', 'settlement_status', 'settlement_date', 'settlement_amount', 'settlement_percentage', 'settlement_term']\n",
            "Numerical Features: ['id', 'member_id', 'loan_amnt', 'funded_amnt', 'funded_amnt_inv', 'int_rate', 'installment', 'annual_inc', 'url', 'dti', 'delinq_2yrs', 'inq_last_6mths', 'mths_since_last_delinq', 'mths_since_last_record', 'open_acc', 'pub_rec', 'revol_bal', 'revol_util', 'total_acc', 'out_prncp', 'out_prncp_inv', 'total_pymnt', 'total_pymnt_inv', 'total_rec_prncp', 'total_rec_int', 'total_rec_late_fee', 'recoveries', 'collection_recovery_fee', 'last_pymnt_amnt', 'collections_12_mths_ex_med', 'mths_since_last_major_derog', 'policy_code', 'annual_inc_joint', 'dti_joint', 'acc_now_delinq', 'tot_coll_amt', 'tot_cur_bal', 'open_acc_6m', 'open_act_il', 'open_il_12m', 'open_il_24m', 'mths_since_rcnt_il', 'total_bal_il', 'il_util', 'open_rv_12m', 'open_rv_24m', 'max_bal_bc', 'all_util', 'total_rev_hi_lim', 'inq_fi', 'total_cu_tl', 'inq_last_12m', 'acc_open_past_24mths', 'avg_cur_bal', 'bc_open_to_buy', 'bc_util', 'chargeoff_within_12_mths', 'delinq_amnt', 'mo_sin_old_il_acct', 'mo_sin_old_rev_tl_op', 'mo_sin_rcnt_rev_tl_op', 'mo_sin_rcnt_tl', 'mort_acc', 'mths_since_recent_bc', 'mths_since_recent_bc_dlq', 'mths_since_recent_inq', 'mths_since_recent_revol_delinq', 'num_accts_ever_120_pd', 'num_actv_bc_tl', 'num_actv_rev_tl', 'num_bc_sats', 'num_bc_tl', 'num_il_tl', 'num_op_rev_tl', 'num_rev_accts', 'num_rev_tl_bal_gt_0', 'num_sats', 'num_tl_120dpd_2m', 'num_tl_30dpd', 'num_tl_90g_dpd_24m', 'num_tl_op_past_12m', 'pct_tl_nvr_dlq', 'percent_bc_gt_75', 'pub_rec_bankruptcies', 'tax_liens', 'tot_hi_cred_lim', 'total_bal_ex_mort', 'total_bc_limit', 'total_il_high_credit_limit', 'revol_bal_joint', 'sec_app_inq_last_6mths', 'sec_app_mort_acc', 'sec_app_open_acc', 'sec_app_revol_util', 'sec_app_open_act_il', 'sec_app_num_rev_accts', 'sec_app_chargeoff_within_12_mths', 'sec_app_collections_12_mths_ex_med', 'sec_app_mths_since_last_major_derog', 'deferral_term', 'hardship_amount', 'hardship_length', 'hardship_dpd', 'orig_projected_additional_accrued_interest', 'hardship_payoff_balance_amount', 'hardship_last_payment_amount', 'settlement_amount', 'settlement_percentage', 'settlement_term']\n",
            "Categorical Features: ['term', 'grade', 'sub_grade', 'emp_title', 'emp_length', 'home_ownership', 'verification_status', 'issue_d', 'loan_status', 'pymnt_plan', 'desc', 'purpose', 'title', 'zip_code', 'addr_state', 'earliest_cr_line', 'initial_list_status', 'last_pymnt_d', 'next_pymnt_d', 'last_credit_pull_d', 'application_type', 'verification_status_joint', 'sec_app_earliest_cr_line', 'hardship_flag', 'hardship_type', 'hardship_reason', 'hardship_status', 'hardship_start_date', 'hardship_end_date', 'payment_plan_start_date', 'hardship_loan_status', 'disbursement_method', 'debt_settlement_flag', 'debt_settlement_flag_date', 'settlement_status', 'settlement_date']\n"
          ]
        }
      ]
    },
    {
      "cell_type": "code",
      "source": [
        "columns_to_drop = [\n",
        "    # IDs & Metadata\n",
        "    'id', 'member_id', 'url', 'desc', 'title', 'zip_code', 'addr_state',\n",
        "\n",
        "    # Loan Application Details\n",
        "    'policy_code', 'pymnt_plan', 'hardship_flag', 'debt_settlement_flag',\n",
        "\n",
        "    # Hardship & Settlement Details\n",
        "    'hardship_type', 'hardship_reason', 'hardship_status',\n",
        "    'hardship_start_date', 'hardship_end_date', 'hardship_loan_status',\n",
        "    'debt_settlement_flag_date', 'settlement_status', 'settlement_date',\n",
        "    'settlement_amount', 'settlement_percentage', 'settlement_term',\n",
        "\n",
        "    # Payment History & Unnecessary Dates\n",
        "    'next_pymnt_d', 'last_credit_pull_d', 'issue_d', 'earliest_cr_line',\n",
        "\n",
        "    # Extra Financial Metrics\n",
        "    'out_prncp', 'out_prncp_inv', 'total_rec_late_fee', 'collection_recovery_fee',\n",
        "\n",
        "    # Redundant Features\n",
        "    'total_pymnt_inv', 'total_rec_int', 'recoveries'\n",
        "]\n",
        "\n",
        "# Drop the columns\n",
        "loan_data_sample = loan_data_sample.drop(columns=columns_to_drop)\n",
        "\n",
        "# Save the cleaned dataset\n",
        "loan_data_sample.to_csv('loan_data_cleaned.csv', index=False)\n",
        "\n",
        "print(\"✅ Successfully dropped unnecessary columns and saved cleaned dataset!\")"
      ],
      "metadata": {
        "colab": {
          "base_uri": "https://localhost:8080/"
        },
        "id": "nKNmVVBhFkTZ",
        "outputId": "709a8327-6056-47c6-c5de-93421f38b734"
      },
      "execution_count": 10,
      "outputs": [
        {
          "output_type": "stream",
          "name": "stdout",
          "text": [
            "✅ Successfully dropped unnecessary columns and saved cleaned dataset!\n"
          ]
        }
      ]
    },
    {
      "cell_type": "code",
      "source": [
        "# Display information about the cleaned dataset\n",
        "print(\"Cleaned Dataset Information:\")\n",
        "loan_data_sample.info()"
      ],
      "metadata": {
        "colab": {
          "base_uri": "https://localhost:8080/"
        },
        "id": "DDGsC3R7HvnO",
        "outputId": "529c36af-67ce-4b51-b0a5-0258b361fb9f"
      },
      "execution_count": 11,
      "outputs": [
        {
          "output_type": "stream",
          "name": "stdout",
          "text": [
            "Cleaned Dataset Information:\n",
            "<class 'pandas.core.frame.DataFrame'>\n",
            "Index: 678200 entries, 1758049 to 2038627\n",
            "Columns: 111 entries, loan_amnt to disbursement_method\n",
            "dtypes: float64(92), int64(3), object(16)\n",
            "memory usage: 579.5+ MB\n"
          ]
        }
      ]
    },
    {
      "cell_type": "code",
      "source": [
        "# Number of duplicate records\n",
        "loan_data_sample.duplicated().sum()"
      ],
      "metadata": {
        "colab": {
          "base_uri": "https://localhost:8080/"
        },
        "id": "PGdmNhWDH3X5",
        "outputId": "67c0c467-b398-487c-c469-4a1fdae51d6e"
      },
      "execution_count": 12,
      "outputs": [
        {
          "output_type": "execute_result",
          "data": {
            "text/plain": [
              "np.int64(0)"
            ]
          },
          "metadata": {},
          "execution_count": 12
        }
      ]
    },
    {
      "cell_type": "code",
      "source": [
        "# Missing values in each column\n",
        "loan_data_sample.isnull().sum()"
      ],
      "metadata": {
        "colab": {
          "base_uri": "https://localhost:8080/",
          "height": 458
        },
        "id": "P2wUsdxpIEm_",
        "outputId": "0701c28e-360a-4616-bf3d-3d3fef2403b7"
      },
      "execution_count": 13,
      "outputs": [
        {
          "output_type": "execute_result",
          "data": {
            "text/plain": [
              "loan_amnt                                          0\n",
              "funded_amnt                                        0\n",
              "funded_amnt_inv                                    0\n",
              "term                                               0\n",
              "int_rate                                           0\n",
              "                                               ...  \n",
              "hardship_dpd                                  675080\n",
              "orig_projected_additional_accrued_interest    675716\n",
              "hardship_payoff_balance_amount                675080\n",
              "hardship_last_payment_amount                  675080\n",
              "disbursement_method                                0\n",
              "Length: 111, dtype: int64"
            ],
            "text/html": [
              "<div>\n",
              "<style scoped>\n",
              "    .dataframe tbody tr th:only-of-type {\n",
              "        vertical-align: middle;\n",
              "    }\n",
              "\n",
              "    .dataframe tbody tr th {\n",
              "        vertical-align: top;\n",
              "    }\n",
              "\n",
              "    .dataframe thead th {\n",
              "        text-align: right;\n",
              "    }\n",
              "</style>\n",
              "<table border=\"1\" class=\"dataframe\">\n",
              "  <thead>\n",
              "    <tr style=\"text-align: right;\">\n",
              "      <th></th>\n",
              "      <th>0</th>\n",
              "    </tr>\n",
              "  </thead>\n",
              "  <tbody>\n",
              "    <tr>\n",
              "      <th>loan_amnt</th>\n",
              "      <td>0</td>\n",
              "    </tr>\n",
              "    <tr>\n",
              "      <th>funded_amnt</th>\n",
              "      <td>0</td>\n",
              "    </tr>\n",
              "    <tr>\n",
              "      <th>funded_amnt_inv</th>\n",
              "      <td>0</td>\n",
              "    </tr>\n",
              "    <tr>\n",
              "      <th>term</th>\n",
              "      <td>0</td>\n",
              "    </tr>\n",
              "    <tr>\n",
              "      <th>int_rate</th>\n",
              "      <td>0</td>\n",
              "    </tr>\n",
              "    <tr>\n",
              "      <th>...</th>\n",
              "      <td>...</td>\n",
              "    </tr>\n",
              "    <tr>\n",
              "      <th>hardship_dpd</th>\n",
              "      <td>675080</td>\n",
              "    </tr>\n",
              "    <tr>\n",
              "      <th>orig_projected_additional_accrued_interest</th>\n",
              "      <td>675716</td>\n",
              "    </tr>\n",
              "    <tr>\n",
              "      <th>hardship_payoff_balance_amount</th>\n",
              "      <td>675080</td>\n",
              "    </tr>\n",
              "    <tr>\n",
              "      <th>hardship_last_payment_amount</th>\n",
              "      <td>675080</td>\n",
              "    </tr>\n",
              "    <tr>\n",
              "      <th>disbursement_method</th>\n",
              "      <td>0</td>\n",
              "    </tr>\n",
              "  </tbody>\n",
              "</table>\n",
              "<p>111 rows × 1 columns</p>\n",
              "</div><br><label><b>dtype:</b> int64</label>"
            ]
          },
          "metadata": {},
          "execution_count": 13
        }
      ]
    },
    {
      "cell_type": "code",
      "source": [
        "# Drop columns with high missing values\n",
        "threshold = 0.5\n",
        "columns_to_drop = loan_data_sample.columns[loan_data_sample.isnull().mean() > threshold]\n",
        "loan_data_sample = loan_data_sample.drop(columns=columns_to_drop)\n",
        "\n",
        "print(f\"Dropped columns: {list(columns_to_drop)}\")"
      ],
      "metadata": {
        "colab": {
          "base_uri": "https://localhost:8080/"
        },
        "id": "q-5URHVIIMrK",
        "outputId": "a4aacc27-c048-4688-ca5d-1a2f9a736d85"
      },
      "execution_count": 14,
      "outputs": [
        {
          "output_type": "stream",
          "name": "stdout",
          "text": [
            "Dropped columns: ['mths_since_last_delinq', 'mths_since_last_record', 'mths_since_last_major_derog', 'annual_inc_joint', 'dti_joint', 'verification_status_joint', 'mths_since_recent_bc_dlq', 'mths_since_recent_revol_delinq', 'revol_bal_joint', 'sec_app_earliest_cr_line', 'sec_app_inq_last_6mths', 'sec_app_mort_acc', 'sec_app_open_acc', 'sec_app_revol_util', 'sec_app_open_act_il', 'sec_app_num_rev_accts', 'sec_app_chargeoff_within_12_mths', 'sec_app_collections_12_mths_ex_med', 'sec_app_mths_since_last_major_derog', 'deferral_term', 'hardship_amount', 'payment_plan_start_date', 'hardship_length', 'hardship_dpd', 'orig_projected_additional_accrued_interest', 'hardship_payoff_balance_amount', 'hardship_last_payment_amount']\n"
          ]
        }
      ]
    },
    {
      "cell_type": "code",
      "source": [
        "from sklearn.impute import SimpleImputer\n",
        "\n",
        "# Identify numerical and categorical features\n",
        "num_features = loan_data_sample.select_dtypes(include=['float64', 'int64']).columns\n",
        "cat_features = loan_data_sample.select_dtypes(include=['object']).columns\n",
        "\n",
        "# Apply median imputation for numerical features\n",
        "num_imputer = SimpleImputer(strategy='median')\n",
        "loan_data_sample[num_features] = num_imputer.fit_transform(loan_data_sample[num_features])\n",
        "\n",
        "# Apply mode imputation for categorical features\n",
        "cat_imputer = SimpleImputer(strategy='most_frequent')\n",
        "loan_data_sample[cat_features] = cat_imputer.fit_transform(loan_data_sample[cat_features])\n",
        "\n",
        "print(\"✅ Successfully handled missing values across all features!\")"
      ],
      "metadata": {
        "colab": {
          "base_uri": "https://localhost:8080/"
        },
        "id": "jRBFn6m1IYoZ",
        "outputId": "e3fe9d70-7db5-4ecb-f834-ccb9dbaaa670"
      },
      "execution_count": 15,
      "outputs": [
        {
          "output_type": "stream",
          "name": "stdout",
          "text": [
            "✅ Successfully handled missing values across all features!\n"
          ]
        }
      ]
    },
    {
      "cell_type": "code",
      "source": [
        "loan_data_sample.isnull().sum().sum()"
      ],
      "metadata": {
        "colab": {
          "base_uri": "https://localhost:8080/"
        },
        "id": "dPGv4JpMO0sX",
        "outputId": "5ebe6a3a-7fb0-4eb8-8aca-b58ea08fa582"
      },
      "execution_count": 16,
      "outputs": [
        {
          "output_type": "execute_result",
          "data": {
            "text/plain": [
              "np.int64(0)"
            ]
          },
          "metadata": {},
          "execution_count": 16
        }
      ]
    },
    {
      "cell_type": "code",
      "source": [
        "# Compute correlation matrix\n",
        "corr_matrix = loan_data_sample.select_dtypes(include=['number']).corr().abs()\n",
        "\n",
        "# Identify highly correlated features (threshold > 0.85)\n",
        "high_corr_features = set()\n",
        "for i in range(len(corr_matrix.columns)):\n",
        "    for j in range(i):\n",
        "        if corr_matrix.iloc[i, j] > 0.85:\n",
        "            high_corr_features.add(corr_matrix.columns[i])\n",
        "\n",
        "# Drop highly correlated features\n",
        "loan_data_sample = loan_data_sample.drop(columns=high_corr_features)\n",
        "\n",
        "print(f\"✅ Removed highly correlated features: {high_corr_features}\")"
      ],
      "metadata": {
        "colab": {
          "base_uri": "https://localhost:8080/"
        },
        "id": "chzk_7EhIyfQ",
        "outputId": "6fc8658d-41e8-439f-9ec5-3df90067f792"
      },
      "execution_count": 17,
      "outputs": [
        {
          "output_type": "stream",
          "name": "stdout",
          "text": [
            "✅ Removed highly correlated features: {'total_il_high_credit_limit', 'num_rev_tl_bal_gt_0', 'num_sats', 'total_rec_prncp', 'funded_amnt', 'tot_hi_cred_lim', 'funded_amnt_inv', 'installment'}\n"
          ]
        }
      ]
    },
    {
      "cell_type": "code",
      "source": [
        "# Define binary loan status mapping\n",
        "loan_status_mapping = {\n",
        "    'Fully Paid': 1,\n",
        "    'Current': 1,\n",
        "    'Charged Off': 0,\n",
        "    'Default': 0,\n",
        "    'Late (31-120 days)': 0,\n",
        "    'Late (16-30 days)': 0,\n",
        "    'In Grace Period': 0,\n",
        "    'Does not meet the credit policy. Status: Fully Paid': 1,\n",
        "    'Does not meet the credit policy. Status: Charged Off': 0\n",
        "}\n",
        "\n",
        "# Apply mapping\n",
        "loan_data_sample['loan_status_binary'] = loan_data_sample['loan_status'].map(loan_status_mapping)\n",
        "\n",
        "# Drop original loan_status column\n",
        "loan_data_sample = loan_data_sample.drop(columns=['loan_status'])\n",
        "\n",
        "# Print success message\n",
        "print(\"✅ Loan status successfully binarized!\")\n",
        "\n",
        "# Show counts of default (0) and non-default (1) values\n",
        "print(\"\\nDefault and Non-Default Value Counts:\")\n",
        "print(loan_data_sample['loan_status_binary'].value_counts())\n"
      ],
      "metadata": {
        "colab": {
          "base_uri": "https://localhost:8080/"
        },
        "id": "o3VP1gwaUbM2",
        "outputId": "e337ddba-2d73-4426-abbf-32fe85bb412f"
      },
      "execution_count": 18,
      "outputs": [
        {
          "output_type": "stream",
          "name": "stdout",
          "text": [
            "✅ Loan status successfully binarized!\n",
            "\n",
            "Default and Non-Default Value Counts:\n",
            "loan_status_binary\n",
            "1.0    588196\n",
            "0.0     89172\n",
            "Name: count, dtype: int64\n"
          ]
        }
      ]
    },
    {
      "cell_type": "code",
      "source": [
        "def cap_outliers_and_fillna(df, columns):\n",
        "    for col in columns:\n",
        "        lower_cap = df[col].quantile(0.01)  # 1st percentile\n",
        "        upper_cap = df[col].quantile(0.99)  # 99th percentile\n",
        "        df[col] = df[col].clip(lower=lower_cap, upper=upper_cap)  # Capping values\n",
        "\n",
        "    # Fill NaN values with median (recommended for numerical features)\n",
        "    df[columns] = df[columns].fillna(df[columns].median())\n",
        "\n",
        "    return df\n",
        "\n",
        "# Apply outlier capping and handle NaNs\n",
        "num_features = loan_data_sample.select_dtypes(include=['float64', 'int64']).columns\n",
        "loan_data_sample = cap_outliers_and_fillna(loan_data_sample, num_features)\n",
        "\n",
        "print(\"✅ Extreme values capped, and NaN values replaced with median!\")"
      ],
      "metadata": {
        "colab": {
          "base_uri": "https://localhost:8080/"
        },
        "id": "bXa8pYMtVEYV",
        "outputId": "7a05a01f-321f-4c40-ea57-5f5bfe02ac1b"
      },
      "execution_count": 19,
      "outputs": [
        {
          "output_type": "stream",
          "name": "stdout",
          "text": [
            "✅ Extreme values capped, and NaN values replaced with median!\n"
          ]
        }
      ]
    },
    {
      "cell_type": "code",
      "source": [
        "# Separate features (X) and target (y)\n",
        "X = loan_data_sample.drop(columns=['loan_status_binary'])\n",
        "y = loan_data_sample['loan_status_binary']\n",
        "\n",
        "# Perform the train-test split\n",
        "X_train, X_test, y_train, y_test = train_test_split(X, y, test_size=0.2, random_state=42)\n",
        "\n",
        "# Output the shape of the splits\n",
        "print(f\"Training Data Shape: {X_train.shape}, {y_train.shape}\")\n",
        "print(f\"Testing Data Shape: {X_test.shape}, {y_test.shape}\")"
      ],
      "metadata": {
        "colab": {
          "base_uri": "https://localhost:8080/"
        },
        "id": "xXBR_S8SSBmk",
        "outputId": "6e70cd35-e2bb-4e13-a1b0-ebc38281bed6"
      },
      "execution_count": 20,
      "outputs": [
        {
          "output_type": "stream",
          "name": "stdout",
          "text": [
            "Training Data Shape: (542560, 75), (542560,)\n",
            "Testing Data Shape: (135640, 75), (135640,)\n"
          ]
        }
      ]
    },
    {
      "cell_type": "code",
      "source": [
        "from sklearn.preprocessing import OrdinalEncoder\n",
        "\n",
        "# Identify categorical columns\n",
        "cat_features = X_train.select_dtypes(include=['object']).columns\n",
        "\n",
        "# Initialize Ordinal Encoder (handles unseen categories)\n",
        "ordinal_encoder = OrdinalEncoder(handle_unknown='use_encoded_value', unknown_value=-1)\n",
        "\n",
        "# Fit encoder on training data and transform\n",
        "X_train[cat_features] = ordinal_encoder.fit_transform(X_train[cat_features])\n",
        "\n",
        "# Apply encoding to test set (avoiding KeyError on unseen values)\n",
        "X_test[cat_features] = ordinal_encoder.transform(X_test[cat_features])\n",
        "\n",
        "print(\"✅ Successfully encoded categorical features with OrdinalEncoder!\")\n"
      ],
      "metadata": {
        "colab": {
          "base_uri": "https://localhost:8080/"
        },
        "id": "TQW_ugdWYo9K",
        "outputId": "c0a9d58e-3254-4eb2-830c-65e3b0e3c080"
      },
      "execution_count": 21,
      "outputs": [
        {
          "output_type": "stream",
          "name": "stdout",
          "text": [
            "✅ Successfully encoded categorical features with OrdinalEncoder!\n"
          ]
        }
      ]
    },
    {
      "cell_type": "code",
      "source": [
        "from sklearn.preprocessing import StandardScaler\n",
        "\n",
        "# Identify numerical columns\n",
        "num_features = X_train.select_dtypes(include=['float64', 'int64']).columns\n",
        "\n",
        "# Initialize StandardScaler\n",
        "scaler = StandardScaler()\n",
        "\n",
        "# Fit and transform training data\n",
        "X_train[num_features] = scaler.fit_transform(X_train[num_features])\n",
        "\n",
        "# Transform test data (keeping consistency)\n",
        "X_test[num_features] = scaler.transform(X_test[num_features])\n",
        "\n",
        "print(\"✅ Successfully scaled numerical features!\")\n"
      ],
      "metadata": {
        "colab": {
          "base_uri": "https://localhost:8080/"
        },
        "id": "9QaOqVZ9Q56P",
        "outputId": "ff249e10-273a-4c9e-d8e8-141f19b67799"
      },
      "execution_count": 22,
      "outputs": [
        {
          "output_type": "stream",
          "name": "stdout",
          "text": [
            "✅ Successfully scaled numerical features!\n"
          ]
        }
      ]
    },
    {
      "cell_type": "code",
      "source": [
        "from sklearn.preprocessing import StandardScaler\n",
        "\n",
        "# Identify numerical features\n",
        "num_features = X_train.select_dtypes(include=['float64', 'int64']).columns\n",
        "\n",
        "# Initialize StandardScaler\n",
        "scaler = StandardScaler()\n",
        "\n",
        "# Fit scaler on training data\n",
        "X_train[num_features] = scaler.fit_transform(X_train[num_features])\n",
        "\n",
        "# Ensure X_test has the same columns as X_train\n",
        "X_test = X_test[X_train.columns]\n",
        "\n",
        "# Apply scaling\n",
        "X_test[num_features] = scaler.transform(X_test[num_features])\n",
        "\n",
        "print(\"✅ Successfully scaled numerical features!\")"
      ],
      "metadata": {
        "colab": {
          "base_uri": "https://localhost:8080/"
        },
        "id": "ni7cta60SrAV",
        "outputId": "efb8c2d3-b099-4a71-9139-74c130576cfa"
      },
      "execution_count": 23,
      "outputs": [
        {
          "output_type": "stream",
          "name": "stdout",
          "text": [
            "✅ Successfully scaled numerical features!\n"
          ]
        }
      ]
    },
    {
      "cell_type": "code",
      "source": [
        "from imblearn.over_sampling import SMOTE\n",
        "\n",
        "# Check class distribution before SMOTE\n",
        "print(\"🔹 Class Distribution in y_train BEFORE SMOTE:\")\n",
        "print(y_train.value_counts())\n",
        "\n",
        "# Initialize SMOTE\n",
        "smote = SMOTE(random_state=42)\n",
        "\n",
        "# Apply SMOTE only to the training set (avoid data leakage)\n",
        "X_train_resampled, y_train_resampled = smote.fit_resample(X_train, y_train)\n",
        "\n",
        "# Check class distribution after SMOTE\n",
        "print(\"\\n✅ Class Distribution in y_train AFTER SMOTE:\")\n",
        "print(y_train_resampled.value_counts())"
      ],
      "metadata": {
        "colab": {
          "base_uri": "https://localhost:8080/"
        },
        "id": "5_r73_NcpPIH",
        "outputId": "2edcf6bb-c3ee-4925-fc96-09c370f46ad5"
      },
      "execution_count": 24,
      "outputs": [
        {
          "output_type": "stream",
          "name": "stdout",
          "text": [
            "🔹 Class Distribution in y_train BEFORE SMOTE:\n",
            "loan_status_binary\n",
            "1.0    471060\n",
            "0.0     71500\n",
            "Name: count, dtype: int64\n",
            "\n",
            "✅ Class Distribution in y_train AFTER SMOTE:\n",
            "loan_status_binary\n",
            "1.0    471060\n",
            "0.0    471060\n",
            "Name: count, dtype: int64\n"
          ]
        }
      ]
    },
    {
      "cell_type": "code",
      "source": [
        "from sklearn.linear_model import LogisticRegression\n",
        "from sklearn.metrics import accuracy_score, classification_report, confusion_matrix\n",
        "\n",
        "lr_baseline = LogisticRegression(random_state=42, max_iter=100)\n",
        "lr_baseline.fit(X_train_resampled, y_train_resampled)\n",
        "y_pred_lr = lr_baseline.predict(X_test)\n",
        "\n",
        "print(\"🔹 LR Accuracy Score:\", accuracy_score(y_test, y_pred_lr))\n",
        "print(\"\\n🔹 LR Classification Report:\\n\", classification_report(y_test, y_pred_lr))\n",
        "print(\"\\n🔹 LR Confusion Matrix:\\n\", confusion_matrix(y_test, y_pred_lr))"
      ],
      "metadata": {
        "colab": {
          "base_uri": "https://localhost:8080/"
        },
        "id": "0LqEorFfugy3",
        "outputId": "ce53fed1-6f65-45da-a083-60e6eda6cac9"
      },
      "execution_count": 32,
      "outputs": [
        {
          "output_type": "stream",
          "name": "stdout",
          "text": [
            "🔹 LR Accuracy Score: 0.7884399882040696\n",
            "\n",
            "🔹 LR Classification Report:\n",
            "               precision    recall  f1-score   support\n",
            "\n",
            "         0.0       0.36      0.80      0.50     17672\n",
            "         1.0       0.96      0.79      0.87    117968\n",
            "\n",
            "    accuracy                           0.79    135640\n",
            "   macro avg       0.66      0.79      0.68    135640\n",
            "weighted avg       0.89      0.79      0.82    135640\n",
            "\n",
            "\n",
            "🔹 LR Confusion Matrix:\n",
            " [[14188  3484]\n",
            " [25212 92756]]\n"
          ]
        }
      ]
    },
    {
      "cell_type": "code",
      "source": [
        "from sklearn.ensemble import RandomForestClassifier\n",
        "\n",
        "rf_baseline = RandomForestClassifier(random_state=42, n_estimators=50, max_depth=5)  # Lower depth\n",
        "rf_baseline.fit(X_train_resampled, y_train_resampled)\n",
        "y_pred_rf = rf_baseline.predict(X_test)\n",
        "\n",
        "print(\"🔹 RF Accuracy Score:\", accuracy_score(y_test, y_pred_rf))\n",
        "print(\"\\n🔹 RF Classification Report:\\n\", classification_report(y_test, y_pred_rf))\n",
        "print(\"\\n🔹 RF Confusion Matrix:\\n\", confusion_matrix(y_test, y_pred_rf))"
      ],
      "metadata": {
        "colab": {
          "base_uri": "https://localhost:8080/"
        },
        "id": "YtI7MZznuoqD",
        "outputId": "1d1c827f-c583-49d3-cb1a-f29dfa037430"
      },
      "execution_count": 33,
      "outputs": [
        {
          "output_type": "stream",
          "name": "stdout",
          "text": [
            "🔹 RF Accuracy Score: 0.8161530521969921\n",
            "\n",
            "🔹 RF Classification Report:\n",
            "               precision    recall  f1-score   support\n",
            "\n",
            "         0.0       0.39      0.74      0.51     17672\n",
            "         1.0       0.95      0.83      0.89    117968\n",
            "\n",
            "    accuracy                           0.82    135640\n",
            "   macro avg       0.67      0.78      0.70    135640\n",
            "weighted avg       0.88      0.82      0.84    135640\n",
            "\n",
            "\n",
            "🔹 RF Confusion Matrix:\n",
            " [[13071  4601]\n",
            " [20336 97632]]\n"
          ]
        }
      ]
    },
    {
      "cell_type": "code",
      "source": [
        "from xgboost import XGBClassifier\n",
        "\n",
        "xgb_baseline = XGBClassifier(random_state=42, n_estimators=50, max_depth=3, eval_metric='logloss')  # Lower depth\n",
        "xgb_baseline.fit(X_train_resampled, y_train_resampled)\n",
        "y_pred_xgb = xgb_baseline.predict(X_test)\n",
        "\n",
        "print(\"🔹 XGBoost Accuracy Score:\", accuracy_score(y_test, y_pred_xgb))\n",
        "print(\"\\n🔹 XGBoost Classification Report:\\n\", classification_report(y_test, y_pred_xgb))\n",
        "print(\"\\n🔹 XGBoost Confusion Matrix:\\n\", confusion_matrix(y_test, y_pred_xgb))"
      ],
      "metadata": {
        "colab": {
          "base_uri": "https://localhost:8080/"
        },
        "id": "tTjmGDnJus6C",
        "outputId": "e9ca6a25-085d-42d0-b788-c93a9faa04bd"
      },
      "execution_count": 34,
      "outputs": [
        {
          "output_type": "stream",
          "name": "stdout",
          "text": [
            "🔹 XGBoost Accuracy Score: 0.9773739309938071\n",
            "\n",
            "🔹 XGBoost Classification Report:\n",
            "               precision    recall  f1-score   support\n",
            "\n",
            "         0.0       0.92      0.91      0.91     17672\n",
            "         1.0       0.99      0.99      0.99    117968\n",
            "\n",
            "    accuracy                           0.98    135640\n",
            "   macro avg       0.95      0.95      0.95    135640\n",
            "weighted avg       0.98      0.98      0.98    135640\n",
            "\n",
            "\n",
            "🔹 XGBoost Confusion Matrix:\n",
            " [[ 16090   1582]\n",
            " [  1487 116481]]\n"
          ]
        }
      ]
    },
    {
      "cell_type": "code",
      "source": [
        "param_grid_lr = {\n",
        "    'C': [0.001, 0.01, 0.1, 1, 10, 100],  # Expanded range for regularization strength\n",
        "    'solver': ['liblinear', 'lbfgs', 'newton-cg'],  # Additional solver option\n",
        "    'max_iter': [100, 300, 500]  # Slightly increased iterations for better convergence\n",
        "}\n",
        "\n",
        "lr_model = LogisticRegression(random_state=42)\n",
        "\n",
        "random_search_lr = RandomizedSearchCV(lr_model, param_grid_lr, cv=3, n_iter=10, n_jobs=-1, random_state=42)\n",
        "random_search_lr.fit(X_train_resampled, y_train_resampled)\n",
        "\n",
        "print(\"✅ Best Logistic Regression Hyperparameters:\", random_search_lr.best_params_)"
      ],
      "metadata": {
        "id": "sYcBs0Wduzji"
      },
      "execution_count": null,
      "outputs": []
    },
    {
      "cell_type": "code",
      "source": [
        "param_grid_rf = {\n",
        "    'n_estimators': [50, 100, 300],  # Increase upper range for better exploration\n",
        "    'max_depth': [3, 5, 10],  # Include deeper trees for better learning\n",
        "    'min_samples_split': [2, 5, 10],  # Test more thresholds for splitting\n",
        "    'min_samples_leaf': [1, 2, 4]  # Add more variation for leaf samples\n",
        "}\n",
        "\n",
        "rf_model = RandomForestClassifier(random_state=42)\n",
        "\n",
        "random_search_rf = RandomizedSearchCV(rf_model, param_grid_rf, cv=3, n_iter=10, n_jobs=-1, random_state=42)\n",
        "random_search_rf.fit(X_train_resampled, y_train_resampled)\n",
        "\n",
        "print(\"✅ Best Random Forest Hyperparameters:\", random_search_rf.best_params_)"
      ],
      "metadata": {
        "id": "8il9V9vBu34q"
      },
      "execution_count": null,
      "outputs": []
    },
    {
      "cell_type": "code",
      "source": [
        "param_grid_xgb = {\n",
        "    'n_estimators': [50, 100, 200],  # Limited range to avoid excessive tuning\n",
        "    'learning_rate': [0.01, 0.05, 0.1],  # Small adjustments to fine-tune step size\n",
        "    'max_depth': [3, 5],  # Keep depth reasonable to prevent overfitting\n",
        "    'subsample': [0.8, 1.0],  # Balanced data sampling\n",
        "    'colsample_bytree': [0.8, 1.0]  # Optimized feature selection per tree\n",
        "}\n",
        "\n",
        "xgb_model = XGBClassifier(random_state=42, eval_metric='logloss')\n",
        "\n",
        "random_search_xgb = RandomizedSearchCV(xgb_model, param_grid_xgb, cv=3, n_iter=5, n_jobs=-1, random_state=42)\n",
        "random_search_xgb.fit(X_train_resampled, y_train_resampled)\n",
        "\n",
        "print(\"✅ Best XGBoost Hyperparameters:\", random_search_xgb.best_params_)"
      ],
      "metadata": {
        "id": "YPhsM0GivC3c"
      },
      "execution_count": null,
      "outputs": []
    },
    {
      "cell_type": "code",
      "source": [
        "from sklearn.metrics import accuracy_score, classification_report, confusion_matrix\n",
        "\n",
        "# Logistic Regression Evaluation\n",
        "y_pred_lr_best = random_search_lr.best_estimator_.predict(X_test)\n",
        "print(\"\\n🔹 LR Accuracy Score:\", accuracy_score(y_test, y_pred_lr_best))\n",
        "print(\"\\n🔹 Logistic Regression Classification Report:\\n\", classification_report(y_test, y_pred_lr_best))\n",
        "print(\"\\n🔹 Logistic Regression Confusion Matrix:\\n\", confusion_matrix(y_test, y_pred_lr_best))\n",
        "\n",
        "# Random Forest Evaluation\n",
        "y_pred_rf_best = random_search_rf.best_estimator_.predict(X_test)\n",
        "print(\"\\n🔹 RF Accuracy Score:\", accuracy_score(y_test, y_pred_rf_best))\n",
        "print(\"\\n🔹 Random Forest Classification Report:\\n\", classification_report(y_test, y_pred_rf_best))\n",
        "print(\"\\n🔹 Random Forest Confusion Matrix:\\n\", confusion_matrix(y_test, y_pred_rf_best))\n",
        "\n",
        "# XGBoost Evaluation\n",
        "y_pred_xgb_best = random_search_xgb.best_estimator_.predict(X_test)\n",
        "print(\"\\n🔹 XGBoost Accuracy Score:\", accuracy_score(y_test, y_pred_xgb_best))\n",
        "print(\"\\n🔹 XGBoost Classification Report:\\n\", classification_report(y_test, y_pred_xgb_best))\n",
        "print(\"\\n🔹 XGBoost Confusion Matrix:\\n\", confusion_matrix(y_test, y_pred_xgb_best))"
      ],
      "metadata": {
        "id": "g-9S5QsgvIU6"
      },
      "execution_count": null,
      "outputs": []
    },
    {
      "cell_type": "code",
      "source": [
        "from sklearn.linear_model import LogisticRegression\n",
        "from sklearn.metrics import classification_report, accuracy_score\n",
        "\n",
        "# Initialize Logistic Regression model\n",
        "lr_model = LogisticRegression(random_state=42, max_iter=500)\n",
        "\n",
        "# Train the model\n",
        "lr_model.fit(X_train_resampled, y_train_resampled)\n",
        "\n",
        "# Make predictions on the test set\n",
        "y_pred = lr_model.predict(X_test)\n",
        "\n",
        "# Evaluate performance\n",
        "print(\"🔹 Accuracy Score:\", accuracy_score(y_test, y_pred))\n",
        "print(\"\\n🔹 Classification Report:\\n\", classification_report(y_test, y_pred))"
      ],
      "metadata": {
        "colab": {
          "base_uri": "https://localhost:8080/"
        },
        "id": "us_BEg8Sc-NX",
        "outputId": "538d4a2e-8d56-4fa7-a971-5940dbe52a29"
      },
      "execution_count": 26,
      "outputs": [
        {
          "output_type": "stream",
          "name": "stdout",
          "text": [
            "🔹 Accuracy Score: 0.7884399882040696\n",
            "\n",
            "🔹 Classification Report:\n",
            "               precision    recall  f1-score   support\n",
            "\n",
            "         0.0       0.36      0.80      0.50     17672\n",
            "         1.0       0.96      0.79      0.87    117968\n",
            "\n",
            "    accuracy                           0.79    135640\n",
            "   macro avg       0.66      0.79      0.68    135640\n",
            "weighted avg       0.89      0.79      0.82    135640\n",
            "\n"
          ]
        }
      ]
    },
    {
      "cell_type": "code",
      "source": [
        "# Add Confusion Matrix\n",
        "print(\"\\n🔹 Confusion Matrix:\")\n",
        "print(confusion_matrix(y_test, y_pred))"
      ],
      "metadata": {
        "colab": {
          "base_uri": "https://localhost:8080/"
        },
        "id": "xUbJJkwodkk7",
        "outputId": "a8fbd85a-e41d-4f21-f4ee-bfddebbad758"
      },
      "execution_count": 27,
      "outputs": [
        {
          "output_type": "stream",
          "name": "stdout",
          "text": [
            "\n",
            "🔹 Confusion Matrix:\n",
            "[[14188  3484]\n",
            " [25212 92756]]\n"
          ]
        }
      ]
    },
    {
      "cell_type": "code",
      "source": [
        "from sklearn.ensemble import RandomForestClassifier\n",
        "\n",
        "# Initialize baseline Random Forest model\n",
        "rf_baseline = RandomForestClassifier(random_state=42)\n",
        "\n",
        "# Train baseline model\n",
        "rf_baseline.fit(X_train_resampled, y_train_resampled)\n",
        "\n",
        "# Make predictions\n",
        "y_pred_rf = rf_baseline.predict(X_test)\n",
        "\n",
        "# Evaluate performance\n",
        "print(\"🔹 Random Forest Accuracy Score:\", accuracy_score(y_test, y_pred_rf))\n",
        "print(\"\\n🔹 Random Forest Classification Report:\\n\", classification_report(y_test, y_pred_rf))\n",
        "print(\"\\n🔹 Random Forest Confusion Matrix:\\n\", confusion_matrix(y_test, y_pred_rf))"
      ],
      "metadata": {
        "colab": {
          "base_uri": "https://localhost:8080/"
        },
        "id": "3PrXxxLciC6Z",
        "outputId": "42a2ebc2-9461-4642-fd16-9bd7bde0f2f0"
      },
      "execution_count": 29,
      "outputs": [
        {
          "output_type": "stream",
          "name": "stdout",
          "text": [
            "🔹 Random Forest Accuracy Score: 0.966020347979947\n",
            "\n",
            "🔹 Random Forest Classification Report:\n",
            "               precision    recall  f1-score   support\n",
            "\n",
            "         0.0       0.91      0.82      0.86     17672\n",
            "         1.0       0.97      0.99      0.98    117968\n",
            "\n",
            "    accuracy                           0.97    135640\n",
            "   macro avg       0.94      0.90      0.92    135640\n",
            "weighted avg       0.97      0.97      0.97    135640\n",
            "\n",
            "\n",
            "🔹 Random Forest Confusion Matrix:\n",
            " [[ 14534   3138]\n",
            " [  1471 116497]]\n"
          ]
        }
      ]
    },
    {
      "cell_type": "code",
      "source": [
        "from xgboost import XGBClassifier\n",
        "\n",
        "# Initialize baseline XGBoost model\n",
        "xgb_baseline = XGBClassifier(random_state=42, eval_metric='logloss')\n",
        "\n",
        "# Train baseline model\n",
        "xgb_baseline.fit(X_train_resampled, y_train_resampled)\n",
        "\n",
        "# Make predictions\n",
        "y_pred_xgb = xgb_baseline.predict(X_test)\n",
        "\n",
        "# Evaluate performance\n",
        "print(\"🔹 XGBoost Accuracy Score:\", accuracy_score(y_test, y_pred_xgb))\n",
        "print(\"\\n🔹 XGBoost Classification Report:\\n\", classification_report(y_test, y_pred_xgb))\n",
        "print(\"\\n🔹 XGBoost Confusion Matrix:\\n\", confusion_matrix(y_test, y_pred_xgb))"
      ],
      "metadata": {
        "colab": {
          "base_uri": "https://localhost:8080/"
        },
        "id": "dEvf2ecNiG6Y",
        "outputId": "07ead319-4b1b-4346-9066-043274c6917f"
      },
      "execution_count": 30,
      "outputs": [
        {
          "output_type": "stream",
          "name": "stdout",
          "text": [
            "🔹 XGBoost Accuracy Score: 0.9857269242111472\n",
            "\n",
            "🔹 XGBoost Classification Report:\n",
            "               precision    recall  f1-score   support\n",
            "\n",
            "         0.0       0.97      0.92      0.94     17672\n",
            "         1.0       0.99      1.00      0.99    117968\n",
            "\n",
            "    accuracy                           0.99    135640\n",
            "   macro avg       0.98      0.96      0.97    135640\n",
            "weighted avg       0.99      0.99      0.99    135640\n",
            "\n",
            "\n",
            "🔹 XGBoost Confusion Matrix:\n",
            " [[ 16284   1388]\n",
            " [   548 117420]]\n"
          ]
        }
      ]
    },
    {
      "cell_type": "code",
      "source": [
        "from sklearn.model_selection import RandomizedSearchCV\n",
        "from sklearn.linear_model import LogisticRegression\n",
        "from sklearn.ensemble import RandomForestClassifier\n",
        "from xgboost import XGBClassifier\n",
        "\n",
        "# Define optimized hyperparameter grids (fewer values to speed up tuning)\n",
        "param_grid_lr = {\n",
        "    'C': [0.01, 0.1, 1, 10],  # Fewer values for faster search\n",
        "    'solver': ['liblinear', 'lbfgs'],\n",
        "    'max_iter': [100, 300]\n",
        "}\n",
        "\n",
        "param_grid_rf = {\n",
        "    'n_estimators': [100, 300],  # Reduced number of trees\n",
        "    'max_depth': [10, 20],\n",
        "    'min_samples_split': [2, 5],\n",
        "    'min_samples_leaf': [1, 2]\n",
        "}\n",
        "\n",
        "param_grid_xgb = {\n",
        "    'n_estimators': [100, 300],\n",
        "    'learning_rate': [0.01, 0.1],\n",
        "    'max_depth': [3, 6],\n",
        "    'subsample': [0.8, 1.0]\n",
        "}\n",
        "\n",
        "# Initialize models\n",
        "lr_model = LogisticRegression(random_state=42)\n",
        "rf_model = RandomForestClassifier(random_state=42)\n",
        "xgb_model = XGBClassifier(random_state=42, eval_metric='logloss')\n",
        "\n",
        "# Perform Randomized Search for each model\n",
        "random_search_lr = RandomizedSearchCV(lr_model, param_grid_lr, cv=3, scoring='accuracy', n_iter=5, n_jobs=-1, random_state=42)\n",
        "random_search_rf = RandomizedSearchCV(rf_model, param_grid_rf, cv=3, scoring='accuracy', n_iter=5, n_jobs=-1, random_state=42)\n",
        "random_search_xgb = RandomizedSearchCV(xgb_model, param_grid_xgb, cv=3, scoring='accuracy', n_iter=5, n_jobs=-1, random_state=42)\n",
        "\n",
        "# Fit models\n",
        "random_search_lr.fit(X_train_resampled, y_train_resampled)\n",
        "random_search_rf.fit(X_train_resampled, y_train_resampled)\n",
        "random_search_xgb.fit(X_train_resampled, y_train_resampled)\n",
        "\n",
        "# Print best hyperparameters\n",
        "print(\"✅ Best Logistic Regression Hyperparameters:\", random_search_lr.best_params_)\n",
        "print(\"✅ Best Random Forest Hyperparameters:\", random_search_rf.best_params_)\n",
        "print(\"✅ Best XGBoost Hyperparameters:\", random_search_xgb.best_params_)\n",
        "\n",
        "# Train final models\n",
        "best_lr_model = random_search_lr.best_estimator_\n",
        "best_rf_model = random_search_rf.best_estimator_\n",
        "best_xgb_model = random_search_xgb.best_estimator_\n",
        "\n",
        "# Make predictions\n",
        "y_pred_lr_best = best_lr_model.predict(X_test)\n",
        "y_pred_rf_best = best_rf_model.predict(X_test)\n",
        "y_pred_xgb_best = best_xgb_model.predict(X_test)\n",
        "\n",
        "# Evaluate performance\n",
        "from sklearn.metrics import accuracy_score, classification_report, confusion_matrix\n",
        "print(\"\\n🔹 LR Accuracy:\", accuracy_score(y_test, y_pred_lr_best))\n",
        "print(\"🔹 RF Accuracy:\", accuracy_score(y_test, y_pred_rf_best))\n",
        "print(\"🔹 XGB Accuracy:\", accuracy_score(y_test, y_pred_xgb_best))\n",
        "\n",
        "print(\"\\n🔹 Logistic Regression Report:\\n\", classification_report(y_test, y_pred_lr_best))\n",
        "print(\"\\n🔹 Random Forest Report:\\n\", classification_report(y_test, y_pred_rf_best))\n",
        "print(\"\\n🔹 XGBoost Report:\\n\", classification_report(y_test, y_pred_xgb_best))\n",
        "\n",
        "print(\"\\n🔹 Logistic Regression Confusion Matrix:\\n\", confusion_matrix(y_test, y_pred_lr_best))\n",
        "print(\"\\n🔹 Random Forest Confusion Matrix:\\n\", confusion_matrix(y_test, y_pred_rf_best))\n",
        "print(\"\\n🔹 XGBoost Confusion Matrix:\\n\", confusion_matrix(y_test, y_pred_xgb_best))\n"
      ],
      "metadata": {
        "colab": {
          "base_uri": "https://localhost:8080/",
          "height": 371
        },
        "id": "ODuKjsZdjTC_",
        "outputId": "0fa4938a-5448-43e3-c632-db44a1c4758c"
      },
      "execution_count": 31,
      "outputs": [
        {
          "output_type": "error",
          "ename": "KeyboardInterrupt",
          "evalue": "",
          "traceback": [
            "\u001b[0;31m---------------------------------------------------------------------------\u001b[0m",
            "\u001b[0;31mKeyboardInterrupt\u001b[0m                         Traceback (most recent call last)",
            "\u001b[0;32m<ipython-input-31-b8fd234fa1b6>\u001b[0m in \u001b[0;36m<cell line: 0>\u001b[0;34m()\u001b[0m\n\u001b[1;32m     37\u001b[0m \u001b[0;31m# Fit models\u001b[0m\u001b[0;34m\u001b[0m\u001b[0;34m\u001b[0m\u001b[0m\n\u001b[1;32m     38\u001b[0m \u001b[0mrandom_search_lr\u001b[0m\u001b[0;34m.\u001b[0m\u001b[0mfit\u001b[0m\u001b[0;34m(\u001b[0m\u001b[0mX_train_resampled\u001b[0m\u001b[0;34m,\u001b[0m \u001b[0my_train_resampled\u001b[0m\u001b[0;34m)\u001b[0m\u001b[0;34m\u001b[0m\u001b[0;34m\u001b[0m\u001b[0m\n\u001b[0;32m---> 39\u001b[0;31m \u001b[0mrandom_search_rf\u001b[0m\u001b[0;34m.\u001b[0m\u001b[0mfit\u001b[0m\u001b[0;34m(\u001b[0m\u001b[0mX_train_resampled\u001b[0m\u001b[0;34m,\u001b[0m \u001b[0my_train_resampled\u001b[0m\u001b[0;34m)\u001b[0m\u001b[0;34m\u001b[0m\u001b[0;34m\u001b[0m\u001b[0m\n\u001b[0m\u001b[1;32m     40\u001b[0m \u001b[0mrandom_search_xgb\u001b[0m\u001b[0;34m.\u001b[0m\u001b[0mfit\u001b[0m\u001b[0;34m(\u001b[0m\u001b[0mX_train_resampled\u001b[0m\u001b[0;34m,\u001b[0m \u001b[0my_train_resampled\u001b[0m\u001b[0;34m)\u001b[0m\u001b[0;34m\u001b[0m\u001b[0;34m\u001b[0m\u001b[0m\n\u001b[1;32m     41\u001b[0m \u001b[0;34m\u001b[0m\u001b[0m\n",
            "\u001b[0;32m/usr/local/lib/python3.11/dist-packages/sklearn/base.py\u001b[0m in \u001b[0;36mwrapper\u001b[0;34m(estimator, *args, **kwargs)\u001b[0m\n\u001b[1;32m   1387\u001b[0m                 )\n\u001b[1;32m   1388\u001b[0m             ):\n\u001b[0;32m-> 1389\u001b[0;31m                 \u001b[0;32mreturn\u001b[0m \u001b[0mfit_method\u001b[0m\u001b[0;34m(\u001b[0m\u001b[0mestimator\u001b[0m\u001b[0;34m,\u001b[0m \u001b[0;34m*\u001b[0m\u001b[0margs\u001b[0m\u001b[0;34m,\u001b[0m \u001b[0;34m**\u001b[0m\u001b[0mkwargs\u001b[0m\u001b[0;34m)\u001b[0m\u001b[0;34m\u001b[0m\u001b[0;34m\u001b[0m\u001b[0m\n\u001b[0m\u001b[1;32m   1390\u001b[0m \u001b[0;34m\u001b[0m\u001b[0m\n\u001b[1;32m   1391\u001b[0m         \u001b[0;32mreturn\u001b[0m \u001b[0mwrapper\u001b[0m\u001b[0;34m\u001b[0m\u001b[0;34m\u001b[0m\u001b[0m\n",
            "\u001b[0;32m/usr/local/lib/python3.11/dist-packages/sklearn/model_selection/_search.py\u001b[0m in \u001b[0;36mfit\u001b[0;34m(self, X, y, **params)\u001b[0m\n\u001b[1;32m   1022\u001b[0m                 \u001b[0;32mreturn\u001b[0m \u001b[0mresults\u001b[0m\u001b[0;34m\u001b[0m\u001b[0;34m\u001b[0m\u001b[0m\n\u001b[1;32m   1023\u001b[0m \u001b[0;34m\u001b[0m\u001b[0m\n\u001b[0;32m-> 1024\u001b[0;31m             \u001b[0mself\u001b[0m\u001b[0;34m.\u001b[0m\u001b[0m_run_search\u001b[0m\u001b[0;34m(\u001b[0m\u001b[0mevaluate_candidates\u001b[0m\u001b[0;34m)\u001b[0m\u001b[0;34m\u001b[0m\u001b[0;34m\u001b[0m\u001b[0m\n\u001b[0m\u001b[1;32m   1025\u001b[0m \u001b[0;34m\u001b[0m\u001b[0m\n\u001b[1;32m   1026\u001b[0m             \u001b[0;31m# multimetric is determined here because in the case of a callable\u001b[0m\u001b[0;34m\u001b[0m\u001b[0;34m\u001b[0m\u001b[0m\n",
            "\u001b[0;32m/usr/local/lib/python3.11/dist-packages/sklearn/model_selection/_search.py\u001b[0m in \u001b[0;36m_run_search\u001b[0;34m(self, evaluate_candidates)\u001b[0m\n\u001b[1;32m   1949\u001b[0m     \u001b[0;32mdef\u001b[0m \u001b[0m_run_search\u001b[0m\u001b[0;34m(\u001b[0m\u001b[0mself\u001b[0m\u001b[0;34m,\u001b[0m \u001b[0mevaluate_candidates\u001b[0m\u001b[0;34m)\u001b[0m\u001b[0;34m:\u001b[0m\u001b[0;34m\u001b[0m\u001b[0;34m\u001b[0m\u001b[0m\n\u001b[1;32m   1950\u001b[0m         \u001b[0;34m\"\"\"Search n_iter candidates from param_distributions\"\"\"\u001b[0m\u001b[0;34m\u001b[0m\u001b[0;34m\u001b[0m\u001b[0m\n\u001b[0;32m-> 1951\u001b[0;31m         evaluate_candidates(\n\u001b[0m\u001b[1;32m   1952\u001b[0m             ParameterSampler(\n\u001b[1;32m   1953\u001b[0m                 \u001b[0mself\u001b[0m\u001b[0;34m.\u001b[0m\u001b[0mparam_distributions\u001b[0m\u001b[0;34m,\u001b[0m \u001b[0mself\u001b[0m\u001b[0;34m.\u001b[0m\u001b[0mn_iter\u001b[0m\u001b[0;34m,\u001b[0m \u001b[0mrandom_state\u001b[0m\u001b[0;34m=\u001b[0m\u001b[0mself\u001b[0m\u001b[0;34m.\u001b[0m\u001b[0mrandom_state\u001b[0m\u001b[0;34m\u001b[0m\u001b[0;34m\u001b[0m\u001b[0m\n",
            "\u001b[0;32m/usr/local/lib/python3.11/dist-packages/sklearn/model_selection/_search.py\u001b[0m in \u001b[0;36mevaluate_candidates\u001b[0;34m(candidate_params, cv, more_results)\u001b[0m\n\u001b[1;32m    968\u001b[0m                     )\n\u001b[1;32m    969\u001b[0m \u001b[0;34m\u001b[0m\u001b[0m\n\u001b[0;32m--> 970\u001b[0;31m                 out = parallel(\n\u001b[0m\u001b[1;32m    971\u001b[0m                     delayed(_fit_and_score)(\n\u001b[1;32m    972\u001b[0m                         \u001b[0mclone\u001b[0m\u001b[0;34m(\u001b[0m\u001b[0mbase_estimator\u001b[0m\u001b[0;34m)\u001b[0m\u001b[0;34m,\u001b[0m\u001b[0;34m\u001b[0m\u001b[0;34m\u001b[0m\u001b[0m\n",
            "\u001b[0;32m/usr/local/lib/python3.11/dist-packages/sklearn/utils/parallel.py\u001b[0m in \u001b[0;36m__call__\u001b[0;34m(self, iterable)\u001b[0m\n\u001b[1;32m     75\u001b[0m             \u001b[0;32mfor\u001b[0m \u001b[0mdelayed_func\u001b[0m\u001b[0;34m,\u001b[0m \u001b[0margs\u001b[0m\u001b[0;34m,\u001b[0m \u001b[0mkwargs\u001b[0m \u001b[0;32min\u001b[0m \u001b[0miterable\u001b[0m\u001b[0;34m\u001b[0m\u001b[0;34m\u001b[0m\u001b[0m\n\u001b[1;32m     76\u001b[0m         )\n\u001b[0;32m---> 77\u001b[0;31m         \u001b[0;32mreturn\u001b[0m \u001b[0msuper\u001b[0m\u001b[0;34m(\u001b[0m\u001b[0;34m)\u001b[0m\u001b[0;34m.\u001b[0m\u001b[0m__call__\u001b[0m\u001b[0;34m(\u001b[0m\u001b[0miterable_with_config\u001b[0m\u001b[0;34m)\u001b[0m\u001b[0;34m\u001b[0m\u001b[0;34m\u001b[0m\u001b[0m\n\u001b[0m\u001b[1;32m     78\u001b[0m \u001b[0;34m\u001b[0m\u001b[0m\n\u001b[1;32m     79\u001b[0m \u001b[0;34m\u001b[0m\u001b[0m\n",
            "\u001b[0;32m/usr/local/lib/python3.11/dist-packages/joblib/parallel.py\u001b[0m in \u001b[0;36m__call__\u001b[0;34m(self, iterable)\u001b[0m\n\u001b[1;32m   2005\u001b[0m         \u001b[0mnext\u001b[0m\u001b[0;34m(\u001b[0m\u001b[0moutput\u001b[0m\u001b[0;34m)\u001b[0m\u001b[0;34m\u001b[0m\u001b[0;34m\u001b[0m\u001b[0m\n\u001b[1;32m   2006\u001b[0m \u001b[0;34m\u001b[0m\u001b[0m\n\u001b[0;32m-> 2007\u001b[0;31m         \u001b[0;32mreturn\u001b[0m \u001b[0moutput\u001b[0m \u001b[0;32mif\u001b[0m \u001b[0mself\u001b[0m\u001b[0;34m.\u001b[0m\u001b[0mreturn_generator\u001b[0m \u001b[0;32melse\u001b[0m \u001b[0mlist\u001b[0m\u001b[0;34m(\u001b[0m\u001b[0moutput\u001b[0m\u001b[0;34m)\u001b[0m\u001b[0;34m\u001b[0m\u001b[0;34m\u001b[0m\u001b[0m\n\u001b[0m\u001b[1;32m   2008\u001b[0m \u001b[0;34m\u001b[0m\u001b[0m\n\u001b[1;32m   2009\u001b[0m     \u001b[0;32mdef\u001b[0m \u001b[0m__repr__\u001b[0m\u001b[0;34m(\u001b[0m\u001b[0mself\u001b[0m\u001b[0;34m)\u001b[0m\u001b[0;34m:\u001b[0m\u001b[0;34m\u001b[0m\u001b[0;34m\u001b[0m\u001b[0m\n",
            "\u001b[0;32m/usr/local/lib/python3.11/dist-packages/joblib/parallel.py\u001b[0m in \u001b[0;36m_get_outputs\u001b[0;34m(self, iterator, pre_dispatch)\u001b[0m\n\u001b[1;32m   1648\u001b[0m \u001b[0;34m\u001b[0m\u001b[0m\n\u001b[1;32m   1649\u001b[0m             \u001b[0;32mwith\u001b[0m \u001b[0mself\u001b[0m\u001b[0;34m.\u001b[0m\u001b[0m_backend\u001b[0m\u001b[0;34m.\u001b[0m\u001b[0mretrieval_context\u001b[0m\u001b[0;34m(\u001b[0m\u001b[0;34m)\u001b[0m\u001b[0;34m:\u001b[0m\u001b[0;34m\u001b[0m\u001b[0;34m\u001b[0m\u001b[0m\n\u001b[0;32m-> 1650\u001b[0;31m                 \u001b[0;32myield\u001b[0m \u001b[0;32mfrom\u001b[0m \u001b[0mself\u001b[0m\u001b[0;34m.\u001b[0m\u001b[0m_retrieve\u001b[0m\u001b[0;34m(\u001b[0m\u001b[0;34m)\u001b[0m\u001b[0;34m\u001b[0m\u001b[0;34m\u001b[0m\u001b[0m\n\u001b[0m\u001b[1;32m   1651\u001b[0m \u001b[0;34m\u001b[0m\u001b[0m\n\u001b[1;32m   1652\u001b[0m         \u001b[0;32mexcept\u001b[0m \u001b[0mGeneratorExit\u001b[0m\u001b[0;34m:\u001b[0m\u001b[0;34m\u001b[0m\u001b[0;34m\u001b[0m\u001b[0m\n",
            "\u001b[0;32m/usr/local/lib/python3.11/dist-packages/joblib/parallel.py\u001b[0m in \u001b[0;36m_retrieve\u001b[0;34m(self)\u001b[0m\n\u001b[1;32m   1760\u001b[0m                 (self._jobs[0].get_status(\n\u001b[1;32m   1761\u001b[0m                     timeout=self.timeout) == TASK_PENDING)):\n\u001b[0;32m-> 1762\u001b[0;31m                 \u001b[0mtime\u001b[0m\u001b[0;34m.\u001b[0m\u001b[0msleep\u001b[0m\u001b[0;34m(\u001b[0m\u001b[0;36m0.01\u001b[0m\u001b[0;34m)\u001b[0m\u001b[0;34m\u001b[0m\u001b[0;34m\u001b[0m\u001b[0m\n\u001b[0m\u001b[1;32m   1763\u001b[0m                 \u001b[0;32mcontinue\u001b[0m\u001b[0;34m\u001b[0m\u001b[0;34m\u001b[0m\u001b[0m\n\u001b[1;32m   1764\u001b[0m \u001b[0;34m\u001b[0m\u001b[0m\n",
            "\u001b[0;31mKeyboardInterrupt\u001b[0m: "
          ]
        }
      ]
    }
  ]
}